{
 "cells": [
  {
   "cell_type": "markdown",
   "metadata": {},
   "source": [
    "# init"
   ]
  },
  {
   "cell_type": "code",
   "execution_count": 1,
   "metadata": {
    "collapsed": true
   },
   "outputs": [],
   "source": [
    "from pymongo import MongoClient\n",
    "\n",
    "client = MongoClient()\n",
    "db = client.izidb"
   ]
  },
  {
   "cell_type": "code",
   "execution_count": 2,
   "metadata": {
    "collapsed": false
   },
   "outputs": [
    {
     "name": "stdout",
     "output_type": "stream",
     "text": [
      "--------------------> english word frequencies loaded\n",
      "--------------------> english word frequencies loaded\n"
     ]
    }
   ],
   "source": [
    "from scripts import izi\n",
    "reload(izi)\n",
    "\n",
    "n_topics = 100"
   ]
  },
  {
   "cell_type": "markdown",
   "metadata": {},
   "source": [
    "# get files list"
   ]
  },
  {
   "cell_type": "code",
   "execution_count": 3,
   "metadata": {
    "collapsed": false
   },
   "outputs": [
    {
     "name": "stdout",
     "output_type": "stream",
     "text": [
      "195\n",
      "1412 Standard English Review-en-ru-T.mxliff\n"
     ]
    }
   ],
   "source": [
    "root = u\"../izi_data/\"\n",
    "filelist = izi.getFileList(root)\n",
    "print len(filelist)\n",
    "example =  filelist[0]\n",
    "print example[len(root):]"
   ]
  },
  {
   "cell_type": "code",
   "execution_count": 4,
   "metadata": {
    "collapsed": true
   },
   "outputs": [],
   "source": [
    "def safe_str(value):\n",
    "    if type(value) == str:\n",
    "    # Ignore errors even if the string is not proper UTF-8 or has\n",
    "    # broken marker bytes.\n",
    "    # Python built-in function unicode() can do this.\n",
    "        value = unicode(value, \"utf-8\", errors=\"ignore\")\n",
    "    else:\n",
    "    # Assume the value object has proper __unicode__() method\n",
    "        value = unicode(value)\n",
    "    return value"
   ]
  },
  {
   "cell_type": "markdown",
   "metadata": {},
   "source": [
    "# define functions"
   ]
  },
  {
   "cell_type": "code",
   "execution_count": 5,
   "metadata": {
    "collapsed": false
   },
   "outputs": [],
   "source": [
    "def insertDoc(path, root = root, prefix = ''):\n",
    "    document = dict()\n",
    "    document['title'] = prefix + '|' + path[len(root):].replace( ' ', '_')\n",
    "    document['type'] = prefix\n",
    "#     try:\n",
    "    full_text = izi.loadText(path)\n",
    "    full_text = safe_str(full_text)\n",
    "    if len(full_text) > 200:\n",
    "        tokens = izi.tokenize( full_text)\n",
    "        document['full_text'] = full_text\n",
    "        document['tokens'] = tokens\n",
    "        topics =  izi.topicsFromTokens(izi.tokenize(full_text))\n",
    "        semantic_vec = [0.] * n_topics\n",
    "        for i in topics:\n",
    "            semantic_vec[i[0]] = i[1]\n",
    "        document['semantic_vec'] = semantic_vec\n",
    "        current_id = db.documents.save(document)\n",
    "        # create links\n",
    "        cursor = db.documents.find()\n",
    "        for doc in cursor:\n",
    "            y = doc['semantic_vec']\n",
    "            y_id = doc[\"_id\"]\n",
    "            if y_id != current_id:\n",
    "                s = izi.getSimilarity( semantic_vec, y)\n",
    "                db.similarities.insert({'source': current_id , 'target': y_id, 'value': s})\n",
    "#     except:\n",
    "#         print \"#### ERROR: \" + document['title']"
   ]
  },
  {
   "cell_type": "markdown",
   "metadata": {},
   "source": [
    "# Brown"
   ]
  },
  {
   "cell_type": "code",
   "execution_count": null,
   "metadata": {
    "collapsed": false
   },
   "outputs": [],
   "source": [
    "root2 = u\"../brown/\"\n",
    "import nltk\n",
    "brown_ids = nltk.corpus.brown.fileids()\n",
    "for i in brown_ids:\n",
    "    f = open( root2 + i + \".txt\", \"w\")\n",
    "    f.write(nltk.corpus.brown.raw(i) )"
   ]
  },
  {
   "cell_type": "code",
   "execution_count": null,
   "metadata": {
    "collapsed": false
   },
   "outputs": [],
   "source": [
    "for f in izi.getFileList(root2):\n",
    "    insertDoc(f, root = root2)"
   ]
  },
  {
   "cell_type": "code",
   "execution_count": null,
   "metadata": {
    "collapsed": false
   },
   "outputs": [],
   "source": [
    "# cursor = db.documents.find_one({ \"_id\": id})\n",
    "# for document in cursor:\n",
    "#     print document"
   ]
  },
  {
   "cell_type": "markdown",
   "metadata": {},
   "source": [
    "# scripts"
   ]
  },
  {
   "cell_type": "code",
   "execution_count": null,
   "metadata": {
    "collapsed": false,
    "scrolled": true
   },
   "outputs": [],
   "source": [
    "import urllib\n",
    "root_scripts = u\"../scripts_movies/\"\n"
   ]
  },
  {
   "cell_type": "code",
   "execution_count": null,
   "metadata": {
    "collapsed": false
   },
   "outputs": [],
   "source": [
    "f = open('raw_script_urls.txt', 'r')\n",
    "for l in f.readlines():\n",
    "    ll =  [ u.rstrip() for u in l.split(' +++$+++ ') ]\n",
    "    title = ll[1]\n",
    "    title = title.replace(\" \", \"_\")\n",
    "    link = ll[2]\n",
    "    try:\n",
    "        p = urllib.urlopen(link).read()\n",
    "        if len(p) > 1000:\n",
    "            print link + ' ' + title\n",
    "            path = root_scripts + title + \".txt\"\n",
    "            file = open( path, \"w\")\n",
    "            \n",
    "            file.write( p )\n",
    "            insertDoc(path, root = root_scripts)\n",
    "        else:\n",
    "            print 'TOO SHORT: ' + link + ' ' + title\n",
    "    except:\n",
    "        print \"ERROR: \" + title"
   ]
  },
  {
   "cell_type": "code",
   "execution_count": null,
   "metadata": {
    "collapsed": false
   },
   "outputs": [],
   "source": [
    "print izi.getFileList(root_scripts)"
   ]
  },
  {
   "cell_type": "code",
   "execution_count": null,
   "metadata": {
    "collapsed": false
   },
   "outputs": [],
   "source": [
    "fails = []\n",
    "print len(izi.getFileList(root_scripts))\n",
    "i = 0\n",
    "for f in izi.getFileList(root_scripts):\n",
    "    try:\n",
    "        insertDoc(f, root = root_scripts)\n",
    "        print i,\n",
    "    except:\n",
    "        fails.append(f)\n",
    "        print \"#\",\n",
    "    i += 1"
   ]
  },
  {
   "cell_type": "markdown",
   "metadata": {
    "collapsed": true
   },
   "source": [
    "# gutemberg"
   ]
  },
  {
   "cell_type": "code",
   "execution_count": null,
   "metadata": {
    "collapsed": false
   },
   "outputs": [],
   "source": [
    "import urllib\n",
    "root_gut = u\"../gutemberg/\"\n",
    "for f in izi.getFileList(root_gut):\n",
    "    if f[-3:] == 'txt':\n",
    "        print f\n",
    "        insertDoc(f, root = root_gut)"
   ]
  },
  {
   "cell_type": "markdown",
   "metadata": {},
   "source": [
    "# masc"
   ]
  },
  {
   "cell_type": "code",
   "execution_count": 10,
   "metadata": {
    "collapsed": false,
    "scrolled": true
   },
   "outputs": [
    {
     "name": "stdout",
     "output_type": "stream",
     "text": [
      "../masc/fiction/Alices Adventures in Wonderland.txt\n",
      "../masc/fiction/A_Wasted_Day.txt"
     ]
    },
    {
     "name": "stderr",
     "output_type": "stream",
     "text": [
      "C:\\Anaconda\\lib\\site-packages\\ipykernel\\__main__.py:17: DeprecationWarning: save is deprecated. Use insert_one or replace_one instead\n",
      "C:\\Anaconda\\lib\\site-packages\\ipykernel\\__main__.py:25: DeprecationWarning: insert is deprecated. Use insert_one or insert_many instead.\n"
     ]
    },
    {
     "name": "stdout",
     "output_type": "stream",
     "text": [
      "\n",
      "../masc/fiction/captured_moments.txt\n",
      "../masc/fiction/hotel-california.txt\n",
      "../masc/fiction/lw1.txt\n",
      "../masc/fiction/Nathans_Bylichka.txt\n",
      "../masc/fiction/The Adventures of Sherlock Holmes.txt\n",
      "../masc/fiction/The Iliad of Homer.txt\n",
      "../masc/fiction/The_Black_Willow.txt\n",
      "../masc/law/A Book About Lawyers.txt\n",
      "../masc/law/An Account of the Proceedings on the Trial.txt\n",
      "../masc/law/Briefless Ballads and Legal Lyrics.txt\n",
      "../masc/law/Business Hints for Men and Women.txt\n",
      "../masc/law/Childrens Internet Protection Act.txt\n",
      "../masc/law/Commentaries on the Laws of Englan.txt\n",
      "../masc/law/John Marshall and the Constitution.txt\n",
      "../masc/law/Law and Laughter.txt\n",
      "../masc/law/Our Legal Heritag.txt\n",
      "../masc/law/Popular Law-making.txt\n",
      "../masc/law/Report of the Decision of the Supreme Court.txt\n",
      "../masc/law/The Acts Of The General Assemblies of the.txt\n",
      "../masc/law/The Acts of Uniformity.txt\n",
      "../masc/law/The Constitution of the United States.txt\n",
      "../masc/law/The Declaration of Independenc.txt\n",
      "../masc/law/The Divine Right of Church Government.txt\n",
      "../masc/law/The English Constitution.txt\n",
      "../masc/law/The Federalist Papers.txt\n",
      "../masc/law/The Laws Of War.txt\n",
      "../masc/law/The Magna Carta.txt\n",
      "../masc/law/The United StatesConstitution.txt\n",
      "../masc/law/the_common_law.txt\n",
      "../masc/medecine/A Manual of the Operations of Surgery.txt\n",
      "../masc/medecine/Appendicitis.txt\n",
      "../masc/medecine/Bronchoscopy and Esophagoscopy.txt\n",
      "../masc/medecine/hygeia-a city of health.txt\n",
      "../masc/medecine/Making Good On Private Dutyhumanistic-nursing.txt\n",
      "../masc/medecine/Manual of Surgery Volume First.txt\n",
      "../masc/medecine/Report on Surgery to the Santa Clara County.txt\n",
      "../masc/medecine/Surgical Anatomy.txt\n",
      "../masc/medecine/The Kama Sutra of Vatsyayana.txt\n",
      "../masc/movie-script/aliens.txt\n",
      "../masc/movie-script/american_psycho.txt\n",
      "../masc/movie-script/hannibal.txt\n",
      "../masc/movie-script/independence_day.txt\n",
      "../masc/movie-script/jackie_brown.txt\n",
      "../masc/movie-script/jaws.txt\n",
      "../masc/movie-script/JurassicParkIV-INT.txt\n",
      "../masc/movie-script/JurassicParkIV-Scene_1.txt\n",
      "../masc/movie-script/JurassicParkIV-Scene_3.txt\n",
      "../masc/movie-script/JurassicParkIV-Scene_4.txt\n",
      "../masc/movie-script/JurassicParkIV-Scene_5.txt\n",
      "../masc/movie-script/pirates.txt\n",
      "../masc/movie-script/psycho.txt\n",
      "../masc/movie-script/titanic.txt\n",
      "../masc/newspaper_newswire/20020731-nyt.txt\n",
      "../masc/newspaper_newswire/NYTnewswire1.txt\n",
      "../masc/newspaper_newswire/NYTnewswire2.txt\n",
      "../masc/newspaper_newswire/NYTnewswire3.txt\n",
      "../masc/newspaper_newswire/NYTnewswire4.txt\n",
      "../masc/newspaper_newswire/NYTnewswire5.txt\n",
      "../masc/newspaper_newswire/NYTnewswire6.txt\n",
      "../masc/newspaper_newswire/NYTnewswire7.txt\n",
      "../masc/newspaper_newswire/NYTnewswire8.txt\n",
      "../masc/newspaper_newswire/NYTnewswire9.txt\n",
      "../masc/newspaper_newswire/wsj_0120.txt\n",
      "../masc/newspaper_newswire/wsj_0158.txt\n",
      "../masc/newspaper_newswire/wsj_1640.mrg-NEW.txt\n",
      "../masc/newspaper_newswire/wsj_2465.txt\n",
      "../masc/notices/iphone_user_guide.txt\n",
      "../masc/philosophy/anth_essay_4.txt\n",
      "../masc/philosophy/Ant_Robot.txt\n",
      "../masc/philosophy/Applied ethics.txt\n",
      "../masc/philosophy/A_defense_of_Michael_Moore.txt\n",
      "../masc/philosophy/Bartok.txt\n",
      "../masc/philosophy/Black_and_white.txt\n",
      "../masc/philosophy/Considerations on Representative Government.txt\n",
      "../masc/philosophy/Definitions of art.txt\n",
      "../masc/philosophy/External world skepticism.txt\n",
      "../masc/philosophy/Free will and free choice.txt\n",
      "../masc/philosophy/Homer and Classical Philology.txt\n",
      "../masc/philosophy/Homosexuality.txt\n",
      "../masc/philosophy/Intentionality.txt\n",
      "../masc/philosophy/Introduction to existentialism.txt\n",
      "../masc/philosophy/Introduction to the Philosophy of Law.txt\n",
      "../masc/philosophy/Just war theory.txt\n",
      "../masc/philosophy/Karl Popper and falsificationism.txt\n",
      "../masc/philosophy/Madame_White_Snake.txt\n",
      "../masc/philosophy/Moral testimony.txt\n",
      "../masc/philosophy/Ohio_Steel.txt\n",
      "../masc/philosophy/Philosophy and its contrast with science.txt\n",
      "../masc/philosophy/Proposed Roads To Freedom.txt\n",
      "../masc/philosophy/Thus Spake Zarathustra.txt\n",
      "../masc/political_and_economy/chapter-10.txt\n",
      "../masc/political_and_economy/Env_Prot_Agency-nov1.txt\n",
      "../masc/political_and_economy/fcic_final_report_conclusions.txt\n",
      "../masc/political_and_economy/Postal_Rate_Comm-ReportToCongress2002WEB.txt\n",
      "../masc/political_and_economy/Principles Of Political Economy.txt\n",
      "../masc/political_and_economy/Protocol_Regarding_Access.txt\n",
      "../masc/technologies-engineering/1468-6708-3-1.txt\n",
      "../masc/technologies-engineering/1468-6708-3-3.txt\n",
      "../masc/technologies-engineering/1471-2091-2-9.txt\n",
      "../masc/technologies-engineering/1471-213X-1-1.txt\n",
      "../masc/technologies-engineering/1471-230X-2-21.txt\n",
      "../masc/technologies-engineering/Ancient Egyptian and Greek Looms.txt\n",
      "../masc/technologies-engineering/Artificial Light.txt\n",
      "../masc/technologies-engineering/concrete_construction.txt\n",
      "../masc/technologies-engineering/Cyclopedia of Telephony and Telegraphy.txt\n",
      "../masc/technologies-engineering/Delco Manuals.txt\n",
      "../masc/technologies-engineering/Development of the Phonograph IBM_1401_programming_systems.txt\n",
      "../masc/technologies-engineering/Development of the Phonograph.txt\n",
      "../masc/technologies-engineering/diggers_in_the_earth.txt\n",
      "../masc/technologies-engineering/how_it_works.txt\n",
      "../masc/technologies-engineering/journal.pbio.0020001.txt\n",
      "../masc/technologies-engineering/Letters of a Radio-Engineer to His Son,.txt\n",
      "../masc/technologies-engineering/makers_of_many_things.txt\n",
      "../masc/technologies-engineering/mechanical_properties_of_wood.txt\n",
      "../masc/technologies-engineering/Nitro-Explosive.txt\n",
      "../masc/technologies-engineering/opportunities_in_ingineering.txt\n",
      "../masc/technologies-engineering/origin_of_wlockwork.txt\n",
      "../masc/technologies-engineering/pmed.0010029.txt\n",
      "../masc/technologies-engineering/Radio Shack TRS-80 Expansion Interface.txt\n",
      "../masc/technologies-engineering/rr166.txt\n",
      "../masc/technologies-engineering/Soap-Making Manual.txt\n",
      "../masc/technologies-engineering/Textiles.txt\n",
      "../masc/technologies-engineering/The Art of Making Whiskey.txt\n",
      "../masc/technologies-engineering/The Art of Perfumery.txt\n",
      "../masc/technologies-engineering/The Earliest Electromagnetic Instruments.txt\n",
      "../masc/technologies-engineering/The Early History of the Airplane.txt\n",
      "../masc/technologies-engineering/The First Airplane Diesel Engine.txt\n",
      "../masc/technologies-engineering/The Introduction of Self-Registering.txt\n",
      "../masc/technologies-engineering/The Methods of Glass Blowing.txt\n",
      "../masc/technologies-engineering/The Telephone.txt\n",
      "../masc/technologies-engineering/the_romance_of_rubber.txt\n",
      "../masc/travel-guides/HistoryGreek.txt\n",
      "../masc/travel-guides/HistoryJerusalem.txt\n",
      "../masc/travel-guides/HistoryLasVegas.txt\n",
      "../masc/travel-guides/IntroDublin.txt\n",
      "../masc/travel-guides/IntroHongKong.txt\n",
      "../masc/travel-guides/WhatToHongKong.txt\n",
      "../masc/travel-guides/WhereToHongKong.txt\n",
      "../masc/twitter/tweets1.txt\n",
      "../masc/twitter/tweets2.txt\n",
      "../masc/z_email/.DS_Store\n",
      "EXTENSION ERROR: ../masc/z_email/.DS_Store\n",
      "../masc/z_email/12176.txt\n",
      "../masc/z_email/175841.txt\n",
      "../masc/z_email/lists-003-2137010.txt\n",
      "../masc/z_email/lists-003-2205935.txt\n",
      "../masc/z_email/lists-046-11493928.txt\n",
      "../masc/z_email/lists-046-12122969.txt\n"
     ]
    }
   ],
   "source": [
    "root_masc = u\"../masc/\"\n",
    "for f in izi.getFileList(root_masc):\n",
    "    sub_root = f+'/'\n",
    "    for ff in izi.getFileList(sub_root):\n",
    "        print ff\n",
    "        insertDoc(ff, root = sub_root, prefix = f[len(root_masc):])"
   ]
  },
  {
   "cell_type": "code",
   "execution_count": null,
   "metadata": {
    "collapsed": true
   },
   "outputs": [],
   "source": []
  },
  {
   "cell_type": "markdown",
   "metadata": {},
   "source": [
    "# add all documents"
   ]
  },
  {
   "cell_type": "code",
   "execution_count": null,
   "metadata": {
    "collapsed": false
   },
   "outputs": [],
   "source": [
    "fails = []\n",
    "i = 0\n",
    "maxx = 500\n",
    "for f in filelist:\n",
    "    if i < maxx:\n",
    "        try:\n",
    "            insertDoc(f)\n",
    "            print i,\n",
    "        except:\n",
    "            fails.append(f)\n",
    "            print \"#\",\n",
    "\n",
    "        i += 1\n",
    "    \n",
    "print\n",
    "print\n",
    "print \"%s fails\" %len(fails)"
   ]
  },
  {
   "cell_type": "code",
   "execution_count": null,
   "metadata": {
    "collapsed": false
   },
   "outputs": [],
   "source": [
    "for f in fails:\n",
    "    print f"
   ]
  },
  {
   "cell_type": "markdown",
   "metadata": {},
   "source": [
    "# tests"
   ]
  },
  {
   "cell_type": "code",
   "execution_count": null,
   "metadata": {
    "collapsed": false
   },
   "outputs": [],
   "source": [
    "cursor = db.documents.find_one()\n",
    "for document in cursor:\n",
    "    print document\n",
    "    \n",
    "    \n",
    "x = cursor[\"_id\"]\n",
    "\n",
    "db.documents.find_one({ \"_id\": x})[\"full_text\"]"
   ]
  },
  {
   "cell_type": "code",
   "execution_count": null,
   "metadata": {
    "collapsed": false
   },
   "outputs": [],
   "source": [
    "db.similarities.find_one()"
   ]
  },
  {
   "cell_type": "markdown",
   "metadata": {},
   "source": [
    "# reset collections"
   ]
  },
  {
   "cell_type": "code",
   "execution_count": 9,
   "metadata": {
    "collapsed": false
   },
   "outputs": [],
   "source": [
    "db.restaurants.drop()\n",
    "db.documents.drop()\n",
    "db.similarities.drop()"
   ]
  },
  {
   "cell_type": "code",
   "execution_count": null,
   "metadata": {
    "collapsed": true
   },
   "outputs": [],
   "source": []
  }
 ],
 "metadata": {
  "kernelspec": {
   "display_name": "Python 2",
   "language": "python",
   "name": "python2"
  },
  "language_info": {
   "codemirror_mode": {
    "name": "ipython",
    "version": 2
   },
   "file_extension": ".py",
   "mimetype": "text/x-python",
   "name": "python",
   "nbconvert_exporter": "python",
   "pygments_lexer": "ipython2",
   "version": "2.7.10"
  }
 },
 "nbformat": 4,
 "nbformat_minor": 0
}
