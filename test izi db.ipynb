{
 "cells": [
  {
   "cell_type": "markdown",
   "metadata": {},
   "source": [
    "# init"
   ]
  },
  {
   "cell_type": "code",
   "execution_count": 1,
   "metadata": {
    "collapsed": true
   },
   "outputs": [],
   "source": [
    "from pymongo import MongoClient\n",
    "\n",
    "client = MongoClient()\n",
    "db = client.izidb"
   ]
  },
  {
   "cell_type": "code",
   "execution_count": 2,
   "metadata": {
    "collapsed": false
   },
   "outputs": [
    {
     "name": "stdout",
     "output_type": "stream",
     "text": [
      "--------------------> english word frequencies loaded\n",
      "--------------------> english word frequencies loaded\n"
     ]
    }
   ],
   "source": [
    "from scripts import izi\n",
    "reload(izi)\n",
    "\n",
    "n_topics = 100"
   ]
  },
  {
   "cell_type": "markdown",
   "metadata": {},
   "source": [
    "# get files list"
   ]
  },
  {
   "cell_type": "code",
   "execution_count": 3,
   "metadata": {
    "collapsed": false
   },
   "outputs": [
    {
     "name": "stdout",
     "output_type": "stream",
     "text": [
      "195\n",
      "1412 Standard English Review-en-ru-T.mxliff\n"
     ]
    }
   ],
   "source": [
    "root = u\"../izi_data/\"\n",
    "filelist = izi.getFileList(root)\n",
    "print len(filelist)\n",
    "example =  filelist[0]\n",
    "print example[len(root):]"
   ]
  },
  {
   "cell_type": "markdown",
   "metadata": {},
   "source": [
    "# define functions"
   ]
  },
  {
   "cell_type": "code",
   "execution_count": 4,
   "metadata": {
    "collapsed": false
   },
   "outputs": [],
   "source": [
    "def insertDoc(path):\n",
    "    document = dict()\n",
    "    document['title'] = path[len(root):]\n",
    "    full_text = izi.loadText(path)\n",
    "    tokens = izi.tokenize( full_text)\n",
    "    document['full_text'] = full_text\n",
    "    document['tokens'] = tokens\n",
    "    topics =  izi.topicsFromTokens(izi.tokenize(full_text))\n",
    "    semantic_vec = [0.] * n_topics\n",
    "    for i in topics:\n",
    "        semantic_vec[i[0]] = i[1]\n",
    "    document['semantic_vec'] = semantic_vec\n",
    "    current_id = db.documents.save(document)\n",
    "    # create links\n",
    "    cursor = db.documents.find()\n",
    "    for doc in cursor:\n",
    "    \ty = doc['semantic_vec']\n",
    "    \ty_id = doc[\"_id\"]\n",
    "    \tif y_id != current_id:\n",
    "\t    \ts = izi.getSimilarity( semantic_vec, y)\n",
    "\t    \tdb.similarities.insert({'source': current_id , 'target': y_id, 'value': s})"
   ]
  },
  {
   "cell_type": "code",
   "execution_count": 5,
   "metadata": {
    "collapsed": false
   },
   "outputs": [],
   "source": [
    "(insertDoc(example))"
   ]
  },
  {
   "cell_type": "code",
   "execution_count": null,
   "metadata": {
    "collapsed": false
   },
   "outputs": [],
   "source": [
    "# cursor = db.documents.find_one({ \"_id\": id})\n",
    "# for document in cursor:\n",
    "#     print document"
   ]
  },
  {
   "cell_type": "markdown",
   "metadata": {},
   "source": [
    "# add all documents"
   ]
  },
  {
   "cell_type": "code",
   "execution_count": 7,
   "metadata": {
    "collapsed": false
   },
   "outputs": [
    {
     "name": "stdout",
     "output_type": "stream",
     "text": [
      "0 1 2 3 4 5 6 7 8 9 10 11 12 13 14 15 16 17 18 19 20 21 22 23 24 25 26 27 28 29 30 31 32 33 34 35 36 37 38 39 40 41 42 43 44 45 46 47 48 49 50 51 52 53 54 # # # 58 59 60 61 62 63 64 65 66 67 68 69 70 71 72 73 74 75 76 77 78 79 80 81 82 83 84 85 86 87 88 89 90 91 92 93 # 95 96 97 98 99 100 101 102 103 104 105 106 107 108 109 110 111 112 113 114 115 116 117 118 119 120 121 122 123 124 125 126 127 128 129 130 131 132 133 # 135 136 137 138 139 140 141 142 143 144 145 146 147 # 149 150 151 152 # 154 155 156 157 158 159 160 161 # 163 164 # # # # # # # 172 173 174 175 176 177 178 179 180 181 182 183 184 185 186 187 188 189 190 191 192 193 194\n",
      "\n",
      "15 fails\n"
     ]
    }
   ],
   "source": [
    "fails = []\n",
    "i = 0\n",
    "maxx = 500\n",
    "for f in filelist:\n",
    "    if i < maxx:\n",
    "        try:\n",
    "            insertDoc(f)\n",
    "            print i,\n",
    "        except:\n",
    "            fails.append(f)\n",
    "            print \"#\",\n",
    "\n",
    "        i += 1\n",
    "    \n",
    "print\n",
    "print\n",
    "print \"%s fails\" %len(fails)"
   ]
  },
  {
   "cell_type": "code",
   "execution_count": 8,
   "metadata": {
    "collapsed": false
   },
   "outputs": [
    {
     "name": "stdout",
     "output_type": "stream",
     "text": [
      "../izi_data/Beth�s Blog 1 v3-en-da-T.mxliff\n",
      "../izi_data/Beth�s Blog 2 v1-en-da-T.mxliff\n",
      "../izi_data/Beth�s Blog 3 v3-en-da-T.mxliff\n",
      "../izi_data/Hvad er mikrogr�nt_en-GB-en-it-T.mxliff\n",
      "../izi_data/Personlig s�tning_en-GB-en-it-T.mxliff\n",
      "../izi_data/Sprouts v�rdier_en-GB-en-it-T.mxliff\n",
      "../izi_data/S�DAN G�R DU _en-GB-en-it-T.mxliff\n",
      "../izi_data/Turkish_Basketball_Clubs_Evaluationprogramme15-16_Repucom_150612_�bersetzten-en-tr-T.mxliff\n",
      "../izi_data/Underbilag 3 3 Leverand�rens generelle l�sningsbeskrivelse - BI-en-da-T.mxliff\n",
      "../izi_data/Underbilag 3 3 Leverand�rens generelle l�sningsbeskrivelse - BU-en-da-T.mxliff\n",
      "../izi_data/Underbilag 3 3 Leverand�rens generelle l�sningsbeskrivelse - IN-en-da-T.mxliff\n",
      "../izi_data/Underbilag 3 3 Leverand�rens generelle l�sningsbeskrivelse - OP-en-da-T.mxliff\n",
      "../izi_data/Underbilag 3 3 Leverand�rens generelle l�sningsbeskrivelse - PS-en-da-T.mxliff\n",
      "../izi_data/Underbilag 3 3 Leverand�rens generelle l�sningsbeskrivelse - RE-en-da-T.mxliff\n",
      "../izi_data/Underbilag 3 3 Leverand�rens generelle l�sningsbeskrivelse - TK-en-da-T.mxliff\n"
     ]
    }
   ],
   "source": [
    "for f in fails:\n",
    "    print f"
   ]
  },
  {
   "cell_type": "markdown",
   "metadata": {},
   "source": [
    "# tests"
   ]
  },
  {
   "cell_type": "code",
   "execution_count": null,
   "metadata": {
    "collapsed": false
   },
   "outputs": [],
   "source": [
    "cursor = db.documents.find_one()\n",
    "for document in cursor:\n",
    "    print document\n",
    "    \n",
    "    \n",
    "x = cursor[\"_id\"]\n",
    "print str(x)\n",
    "\n",
    "db.documents.find_one({ \"_id\": x})[\"_id\"]"
   ]
  },
  {
   "cell_type": "code",
   "execution_count": null,
   "metadata": {
    "collapsed": false
   },
   "outputs": [],
   "source": [
    "db.similarities.find_one()"
   ]
  },
  {
   "cell_type": "markdown",
   "metadata": {},
   "source": [
    "# reset collections"
   ]
  },
  {
   "cell_type": "code",
   "execution_count": 6,
   "metadata": {
    "collapsed": false
   },
   "outputs": [],
   "source": [
    "db.restaurants.drop()\n",
    "db.documents.drop()\n",
    "db.similarities.drop()"
   ]
  },
  {
   "cell_type": "code",
   "execution_count": null,
   "metadata": {
    "collapsed": true
   },
   "outputs": [],
   "source": []
  }
 ],
 "metadata": {
  "kernelspec": {
   "display_name": "Python 2",
   "language": "python",
   "name": "python2"
  },
  "language_info": {
   "codemirror_mode": {
    "name": "ipython",
    "version": 2
   },
   "file_extension": ".py",
   "mimetype": "text/x-python",
   "name": "python",
   "nbconvert_exporter": "python",
   "pygments_lexer": "ipython2",
   "version": "2.7.10"
  }
 },
 "nbformat": 4,
 "nbformat_minor": 0
}
