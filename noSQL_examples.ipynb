{
 "cells": [
  {
   "cell_type": "code",
   "execution_count": 134,
   "metadata": {
    "collapsed": true
   },
   "outputs": [],
   "source": [
    "#mondoDB returns the elements in double, so we use this function to remove the doubles\n",
    "def Unify(dict_):\n",
    "    return {v['id']:v for v in dict_}.values()\n",
    "\n"
   ]
  },
  {
   "cell_type": "markdown",
   "metadata": {},
   "source": [
    "http://docs.mongodb.org/getting-started/python/query/\n",
    "\n",
    "# Exercise 5.1\n",
    "\n",
    " To get started, clone this repository into your working directory. Start a running instance of MongoDB* (on command-line: mongod), then run the .sh file in a terminal. This should create a live Mongo database named ‘Northwind’ that you can connect to in Python. Document the connection by making some simple queries."
   ]
  },
  {
   "cell_type": "code",
   "execution_count": 182,
   "metadata": {
    "collapsed": false
   },
   "outputs": [
    {
     "data": {
      "text/plain": [
       "25600"
      ]
     },
     "execution_count": 182,
     "metadata": {},
     "output_type": "execute_result"
    }
   ],
   "source": [
    "import pymongo\n",
    "import pandas as pd\n",
    "import os\n",
    "import pandas as pd\n",
    "os.system('mongod')"
   ]
  },
  {
   "cell_type": "code",
   "execution_count": 82,
   "metadata": {
    "collapsed": true
   },
   "outputs": [],
   "source": [
    "from pymongo import MongoClient\n",
    "client = MongoClient()\n",
    "client = MongoClient('localhost', 27017)"
   ]
  },
  {
   "cell_type": "code",
   "execution_count": null,
   "metadata": {
    "collapsed": true
   },
   "outputs": [],
   "source": []
  },
  {
   "cell_type": "code",
   "execution_count": 83,
   "metadata": {
    "collapsed": false
   },
   "outputs": [
    {
     "name": "stdout",
     "output_type": "stream",
     "text": [
      "categories\n",
      "customers\n",
      "employee-territories\n",
      "order-details\n",
      "orders\n",
      "products\n",
      "regions\n",
      "shippers\n",
      "suppliers\n",
      "territories\n"
     ]
    }
   ],
   "source": [
    "db = client.Northwind\n",
    "names = db.collection_names(include_system_collections=False)\n",
    "for n in names:\n",
    "    print n"
   ]
  },
  {
   "cell_type": "code",
   "execution_count": 92,
   "metadata": {
    "collapsed": false
   },
   "outputs": [
    {
     "name": "stdout",
     "output_type": "stream",
     "text": [
      "<class 'pymongo.cursor.Cursor'>\n",
      "\n",
      "{u'City': u'Berlin', u'ContactTitle': u'Sales Representative', u'CompanyName': u'Alfreds Futterkiste', u'Country': u'Germany', u'Region': u'NULL', u'Fax': u'030-0076545', u'Phone': u'030-0074321', u'ContactName': u'Maria Anders', u'Address': u'Obere Str. 57', u'PostalCode': 12209, u'_id': ObjectId('560adf1eb6e4bb5b6ccda25b'), u'CustomerID': u'ALFKI'}\n",
      "\n",
      "{u'City': u'Berlin', u'ContactTitle': u'Sales Representative', u'CompanyName': u'Alfreds Futterkiste', u'Country': u'Germany', u'Region': u'NULL', u'Fax': u'030-0076545', u'Phone': u'030-0074321', u'ContactName': u'Maria Anders', u'Address': u'Obere Str. 57', u'PostalCode': 12209, u'_id': ObjectId('560adfc1b6e4bb5b6ccdaf3e'), u'CustomerID': u'ALFKI'}\n",
      "\n"
     ]
    }
   ],
   "source": [
    "print type(db.customers.find({\"CustomerID\": 'ALFKI'}))\n",
    "print\n",
    "for c in list(db.customers.find({\"CustomerID\": 'ALFKI'})):\n",
    "    print c\n",
    "    print\n"
   ]
  },
  {
   "cell_type": "markdown",
   "metadata": {},
   "source": [
    "# Exercise 5.2 ok\n",
    "\n",
    "The customer with customerID ALFKI has made a number of orders containing some products. Query for, and return, all orders made by ALFKI and the products they contain."
   ]
  },
  {
   "cell_type": "code",
   "execution_count": 98,
   "metadata": {
    "collapsed": false
   },
   "outputs": [
    {
     "name": "stdout",
     "output_type": "stream",
     "text": [
      "[10643, 10692, 10702, 10835, 10952, 11011]\n",
      " - - - - \n",
      "number of orders: 6\n",
      " - - - - \n",
      " order : 10643\n",
      "\t *id prod: 28 \t |  Rössle Sauerkraut\n",
      "\t *id prod: 39 \t |  Chartreuse verte\n",
      "\t *id prod: 46 \t |  Spegesild\n",
      " order : 10692\n",
      "\t *id prod: 63 \t |  Vegie-spread\n",
      " order : 10702\n",
      "\t *id prod: 3 \t |  Aniseed Syrup\n",
      "\t *id prod: 76 \t |  Lakkalikööri\n",
      " order : 10835\n",
      "\t *id prod: 59 \t |  Raclette Courdavault\n",
      "\t *id prod: 77 \t |  Original Frankfurter grüne Soße\n",
      " order : 10952\n",
      "\t *id prod: 6 \t |  Grandma's Boysenberry Spread\n",
      "\t *id prod: 28 \t |  Rössle Sauerkraut\n",
      " order : 11011\n",
      "\t *id prod: 58 \t |  Escargots de Bourgogne\n",
      "\t *id prod: 71 \t |  Flotemysost\n"
     ]
    }
   ],
   "source": [
    "user_orders = db.orders.find({\"CustomerID\": 'ALFKI'}).distinct(\"OrderID\")\n",
    "\n",
    "print user_orders\n",
    "orders = []\n",
    "for o in user_orders:\n",
    "    o_dict = {\"orderID\" : o}\n",
    "    products_ordered = []\n",
    "    for detail in db[\"order-details\"].find( { \"OrderID\": o}):\n",
    "        d = detail[\"ProductID\"] \n",
    "        if d not in products_ordered:\n",
    "            products_ordered.append( d )\n",
    "    o_dict[\"prods\"] = products_ordered\n",
    "    orders.append(o_dict)\n",
    "        \n",
    "print(\" - - - - \")\n",
    "print \"number of orders: %s\" %len(orders)\n",
    "print(\" - - - - \")\n",
    "for o in orders:\n",
    "    print \" order : %s\" %o[\"orderID\"] \n",
    "    prods = o[\"prods\"]\n",
    "    for p in prods:\n",
    "        print \"\\t *id prod: \" + str(p) + \" \\t |  \"+ db.products.find_one({\"ProductID\" : p})[\"ProductName\"]\n",
    "    "
   ]
  },
  {
   "cell_type": "code",
   "execution_count": null,
   "metadata": {
    "collapsed": false
   },
   "outputs": [],
   "source": []
  },
  {
   "cell_type": "markdown",
   "metadata": {},
   "source": [
    "# Exercise 5.3: ok\n",
    "\n",
    "Get all orders (with products) made by ALFKI that contain at least 2 product types."
   ]
  },
  {
   "cell_type": "code",
   "execution_count": 100,
   "metadata": {
    "collapsed": false
   },
   "outputs": [
    {
     "name": "stdout",
     "output_type": "stream",
     "text": [
      " order : 10643\n",
      "\t28 \t |  Rössle Sauerkraut\n",
      "\t39 \t |  Chartreuse verte\n",
      "\t46 \t |  Spegesild\n",
      " order : 10702\n",
      "\t3 \t |  Aniseed Syrup\n",
      "\t76 \t |  Lakkalikööri\n",
      " order : 10835\n",
      "\t59 \t |  Raclette Courdavault\n",
      "\t77 \t |  Original Frankfurter grüne Soße\n",
      " order : 10952\n",
      "\t6 \t |  Grandma's Boysenberry Spread\n",
      "\t28 \t |  Rössle Sauerkraut\n",
      " order : 11011\n",
      "\t58 \t |  Escargots de Bourgogne\n",
      "\t71 \t |  Flotemysost\n"
     ]
    }
   ],
   "source": [
    "#orders is defined above\n",
    "for o in orders:\n",
    "    prods = o[\"prods\"]\n",
    "    if len(prods) > 1:\n",
    "        print \" order : %s\" %o[\"orderID\"] \n",
    "        for p in prods:\n",
    "            print \"\\t\" + str(p) + \" \\t |  \"+ db.products.find_one({\"ProductID\" : p})[\"ProductName\"]"
   ]
  },
  {
   "cell_type": "markdown",
   "metadata": {},
   "source": [
    "# Exercise 5.4:\n",
    "\n",
    "Determine how many and who ordered “Uncle Bob’s Organic Dried Pears” (productID 7)."
   ]
  },
  {
   "cell_type": "code",
   "execution_count": 112,
   "metadata": {
    "collapsed": false
   },
   "outputs": [
    {
     "name": "stdout",
     "output_type": "stream",
     "text": [
      "\n",
      "20 hippies bought Uncle Bob’s Organic Dried Pears\n",
      "GOURL\n",
      "VAFFE\n",
      "BOTTM\n",
      "FOLKO\n",
      "BSBEV\n",
      "EASTC\n",
      "FOLIG\n",
      "ERNSH\n",
      "BONAP\n",
      "SANTG\n",
      "REGGC\n",
      "OTTIK\n",
      "RATTC\n",
      "VICTE\n",
      "LILAS\n",
      "QUICK\n",
      "SAVEA\n",
      "OCEAN\n",
      "SPLIR\n",
      "LACOR\n"
     ]
    }
   ],
   "source": [
    "uncleOrders = db[\"order-details\"].find( { \"ProductID\": 7}).distinct(\"OrderID\")\n",
    "\n",
    "hippies = []\n",
    "for u in uncleOrders:\n",
    "    o = db.orders.find_one({ \"OrderID\": u})\n",
    "    hippies.append(o[\"CustomerID\"])\n",
    "\n",
    "print\n",
    "hippies = set(hippies)\n",
    "print \"%s hippies bought Uncle Bob’s Organic Dried Pears\" % len(hippies)\n",
    "for h in hippies:\n",
    "    print h"
   ]
  },
  {
   "cell_type": "markdown",
   "metadata": {},
   "source": [
    "# Exercise 5.5: ok\n",
    "\n",
    "How many different and which products have been ordered by customers who have also ordered “Uncle Bob’s Organic Dried Pears”?"
   ]
  },
  {
   "cell_type": "code",
   "execution_count": 135,
   "metadata": {
    "collapsed": false
   },
   "outputs": [
    {
     "name": "stdout",
     "output_type": "stream",
     "text": [
      "hippies oredered also 76 kind of different products\n",
      "\n",
      "1\t | Chai\n",
      "2\t | Chang\n",
      "3\t | Aniseed Syrup\n",
      "4\t | Chef Anton's Cajun Seasoning\n",
      "5\t | Chef Anton's Gumbo Mix\n",
      "6\t | Grandma's Boysenberry Spread\n",
      "7\t | Uncle Bob's Organic Dried Pears\n",
      "8\t | Northwoods Cranberry Sauce\n",
      "9\t | Mishi Kobe Niku\n",
      "10\t | Ikura\n",
      "11\t | Queso Cabrales\n",
      "12\t | Queso Manchego La Pastora\n",
      "13\t | Konbu\n",
      "14\t | Tofu\n",
      "15\t | Genen Shouyu\n",
      "16\t | Pavlova\n",
      "17\t | Alice Mutton\n",
      "18\t | Carnarvon Tigers\n",
      "19\t | Teatime Chocolate Biscuits\n",
      "20\t | Sir Rodney's Marmalade\n",
      "21\t | Sir Rodney's Scones\n",
      "22\t | Gustaf's Knäckebröd\n",
      "23\t | Tunnbröd\n",
      "24\t | Guaraná Fantástica\n",
      "25\t | NuNuCa Nuß-Nougat-Creme\n",
      "26\t | Gumbär Gummibärchen\n",
      "27\t | Schoggi Schokolade\n",
      "28\t | Rössle Sauerkraut\n",
      "29\t | Thüringer Rostbratwurst\n",
      "30\t | Nord-Ost Matjeshering\n",
      "31\t | Gorgonzola Telino\n",
      "32\t | Mascarpone Fabioli\n",
      "33\t | Geitost\n",
      "34\t | Sasquatch Ale\n",
      "35\t | Steeleye Stout\n",
      "36\t | Inlagd Sill\n",
      "37\t | Gravad lax\n",
      "38\t | Côte de Blaye\n",
      "39\t | Chartreuse verte\n",
      "40\t | Boston Crab Meat\n",
      "41\t | Jack's New England Clam Chowder\n",
      "42\t | Singaporean Hokkien Fried Mee\n",
      "43\t | Ipoh Coffee\n",
      "44\t | Gula Malacca\n",
      "45\t | Rogede sild\n",
      "46\t | Spegesild\n",
      "47\t | Zaanse koeken\n",
      "48\t | Chocolade\n",
      "49\t | Maxilaku\n",
      "50\t | Valkoinen suklaa\n",
      "51\t | Manjimup Dried Apples\n",
      "52\t | Filo Mix\n",
      "53\t | Perth Pasties\n",
      "54\t | Tourtière\n",
      "55\t | Pâté chinois\n",
      "56\t | Gnocchi di nonna Alice\n",
      "57\t | Ravioli Angelo\n",
      "58\t | Escargots de Bourgogne\n",
      "59\t | Raclette Courdavault\n",
      "60\t | Camembert Pierrot\n",
      "61\t | Sirop d'érable\n",
      "62\t | Tarte au sucre\n",
      "63\t | Vegie-spread\n",
      "64\t | Wimmers gute Semmelknödel\n",
      "65\t | Louisiana Fiery Hot Pepper Sauce\n",
      "66\t | Louisiana Hot Spiced Okra\n",
      "68\t | Scottish Longbreads\n",
      "69\t | Gudbrandsdalsost\n",
      "70\t | Outback Lager\n",
      "71\t | Flotemysost\n",
      "72\t | Mozzarella di Giovanni\n",
      "73\t | Röd Kaviar\n",
      "74\t | Longlife Tofu\n",
      "75\t | Rhönbräu Klosterbier\n",
      "76\t | Lakkalikööri\n",
      "77\t | Original Frankfurter grüne Soße\n"
     ]
    }
   ],
   "source": [
    "hippiesproducts = set()\n",
    "\n",
    "for h in hippies:\n",
    "    orders = db.orders.find({ \"CustomerID\": h})\n",
    "    for o in orders:\n",
    "        details = db[\"order-details\"].find({\"OrderID\" : o[\"OrderID\"]}).distinct(\"ProductID\")\n",
    "        for d in details:\n",
    "            hippiesproducts.add(d)\n",
    "\n",
    "\n",
    "print \"hippies oredered also %s kind of different products\" %len(hippiesproducts)\n",
    "print\n",
    "for p in hippiesproducts:\n",
    "    print str(p) + \"\\t | \" + db.products.find_one({\"ProductID\" : p})[\"ProductName\"]"
   ]
  },
  {
   "cell_type": "markdown",
   "metadata": {},
   "source": [
    "# Exercise 5.6:\n",
    "\n",
    "Of those products ordered by customers who have also ordered “Uncle Bob’s Organic Dried Pears”, which one has been ordered the most (by the same set of customers)."
   ]
  },
  {
   "cell_type": "code",
   "execution_count": 127,
   "metadata": {
    "collapsed": false
   },
   "outputs": [
    {
     "name": "stdout",
     "output_type": "stream",
     "text": [
      "hippies oredered also 76 kind of different products\n",
      "\n",
      "id: 7\t | qty: 58\t |  name: Uncle Bob's Organic Dried Pears\n",
      "id: 41\t | qty: 44\t |  name: Jack's New England Clam Chowder\n",
      "id: 62\t | qty: 44\t |  name: Tarte au sucre\n",
      "id: 59\t | qty: 38\t |  name: Raclette Courdavault\n",
      "id: 60\t | qty: 38\t |  name: Camembert Pierrot\n",
      "id: 2\t | qty: 36\t |  name: Chang\n",
      "id: 56\t | qty: 36\t |  name: Gnocchi di nonna Alice\n",
      "id: 31\t | qty: 34\t |  name: Gorgonzola Telino\n",
      "id: 75\t | qty: 34\t |  name: Rhönbräu Klosterbier\n",
      "id: 10\t | qty: 32\t |  name: Ikura\n"
     ]
    }
   ],
   "source": [
    "hippiesproducts = {}\n",
    "import operator\n",
    "\n",
    "for h in hippies:\n",
    "    orders = db.orders.find({ \"CustomerID\": h}).distinct(\"OrderID\")\n",
    "    for o in orders:\n",
    "        details = db[\"order-details\"].find({\"OrderID\" : o})\n",
    "        for d in details:\n",
    "            p_id = d[\"ProductID\"]\n",
    "            q = 1 #d[\"Quantity\"] #we count orders\n",
    "            if p_id in hippiesproducts:\n",
    "                hippiesproducts[p_id] += q\n",
    "            else:\n",
    "                hippiesproducts[p_id] = q\n",
    "\n",
    "\n",
    "\n",
    "print \"hippies oredered also %s kind of different products\" %len(hippiesproducts)\n",
    "print\n",
    "for p in sorted(hippiesproducts.items() , key = operator.itemgetter(1) , reverse = True )[:10]:\n",
    "    print \"id: \" + str(p[0]) + \"\\t | qty: \"+ str(p[1]) + \"\\t | \" + \" name: \" + db.products.find_one({\"ProductID\" : p[0]})[\"ProductName\"]"
   ]
  },
  {
   "cell_type": "code",
   "execution_count": 146,
   "metadata": {
    "collapsed": false
   },
   "outputs": [
    {
     "name": "stdout",
     "output_type": "stream",
     "text": [
      "number of different products: 76\n",
      "TOP 10 ordered products for this set of customers\n"
     ]
    },
    {
     "data": {
      "text/html": [
       "<div>\n",
       "<table border=\"1\" class=\"dataframe\">\n",
       "  <thead>\n",
       "    <tr style=\"text-align: right;\">\n",
       "      <th></th>\n",
       "      <th>ProductID</th>\n",
       "      <th>ProductName</th>\n",
       "      <th>TimesOrdered</th>\n",
       "    </tr>\n",
       "  </thead>\n",
       "  <tbody>\n",
       "    <tr>\n",
       "      <th>6</th>\n",
       "      <td>7</td>\n",
       "      <td>Uncle Bob's Organic Dried Pears</td>\n",
       "      <td>29</td>\n",
       "    </tr>\n",
       "    <tr>\n",
       "      <th>40</th>\n",
       "      <td>41</td>\n",
       "      <td>Jack's New England Clam Chowder</td>\n",
       "      <td>22</td>\n",
       "    </tr>\n",
       "    <tr>\n",
       "      <th>61</th>\n",
       "      <td>62</td>\n",
       "      <td>Tarte au sucre</td>\n",
       "      <td>22</td>\n",
       "    </tr>\n",
       "    <tr>\n",
       "      <th>59</th>\n",
       "      <td>60</td>\n",
       "      <td>Camembert Pierrot</td>\n",
       "      <td>19</td>\n",
       "    </tr>\n",
       "    <tr>\n",
       "      <th>58</th>\n",
       "      <td>59</td>\n",
       "      <td>Raclette Courdavault</td>\n",
       "      <td>19</td>\n",
       "    </tr>\n",
       "    <tr>\n",
       "      <th>1</th>\n",
       "      <td>2</td>\n",
       "      <td>Chang</td>\n",
       "      <td>18</td>\n",
       "    </tr>\n",
       "    <tr>\n",
       "      <th>55</th>\n",
       "      <td>56</td>\n",
       "      <td>Gnocchi di nonna Alice</td>\n",
       "      <td>18</td>\n",
       "    </tr>\n",
       "    <tr>\n",
       "      <th>30</th>\n",
       "      <td>31</td>\n",
       "      <td>Gorgonzola Telino</td>\n",
       "      <td>17</td>\n",
       "    </tr>\n",
       "    <tr>\n",
       "      <th>73</th>\n",
       "      <td>75</td>\n",
       "      <td>Rhönbräu Klosterbier</td>\n",
       "      <td>17</td>\n",
       "    </tr>\n",
       "    <tr>\n",
       "      <th>16</th>\n",
       "      <td>17</td>\n",
       "      <td>Alice Mutton</td>\n",
       "      <td>16</td>\n",
       "    </tr>\n",
       "  </tbody>\n",
       "</table>\n",
       "</div>"
      ],
      "text/plain": [
       "    ProductID                      ProductName  TimesOrdered\n",
       "6           7  Uncle Bob's Organic Dried Pears            29\n",
       "40         41  Jack's New England Clam Chowder            22\n",
       "61         62                   Tarte au sucre            22\n",
       "59         60                Camembert Pierrot            19\n",
       "58         59             Raclette Courdavault            19\n",
       "1           2                            Chang            18\n",
       "55         56           Gnocchi di nonna Alice            18\n",
       "30         31                Gorgonzola Telino            17\n",
       "73         75             Rhönbräu Klosterbier            17\n",
       "16         17                     Alice Mutton            16"
      ]
     },
     "execution_count": 146,
     "metadata": {},
     "output_type": "execute_result"
    }
   ],
   "source": [
    "product_set = set()\n",
    "product_list = list()\n",
    "\n",
    "for h in set(hippies):\n",
    "    orders = db.orders.find({ \"CustomerID\": h}).distinct(\"OrderID\")\n",
    "    for o in orders:\n",
    "        details = db[\"order-details\"].find({\"OrderID\" : o}).distinct('ProductID')\n",
    "        for p in details:\n",
    "            product_set.add(p)\n",
    "            product_list.append(p)\n",
    "\n",
    "product_set = list(product_set)\n",
    "results = pd.DataFrame( { \"ProductID\" : product_set, \"TimesOrdered\" : [product_list.count(p) for p in product_set], \"ProductName\" :[db.products.find_one({\"ProductID\" : p})[\"ProductName\"] for p in product_set] })\n",
    "print \"number of different products: %s\" %len(results)\n",
    "\n",
    "print \"TOP 10 ordered products for this set of customers\"\n",
    "results.sort( columns = \"TimesOrdered\" , ascending = False)[:10]"
   ]
  },
  {
   "cell_type": "markdown",
   "metadata": {},
   "source": [
    "# Exercise 5.7:\n",
    "\n",
    "The customer with customerID ALFKI has bought a series of products. Determine which other customers have bought most of the same products."
   ]
  },
  {
   "cell_type": "code",
   "execution_count": 181,
   "metadata": {
    "collapsed": false
   },
   "outputs": [
    {
     "name": "stdout",
     "output_type": "stream",
     "text": [
      "76 customers bought at least one common product\n",
      "TOP 30 customers with common products\n"
     ]
    },
    {
     "data": {
      "text/html": [
       "<div>\n",
       "<table border=\"1\" class=\"dataframe\">\n",
       "  <thead>\n",
       "    <tr style=\"text-align: right;\">\n",
       "      <th></th>\n",
       "      <th>NumberOfCommonsProducts</th>\n",
       "      <th>customerID</th>\n",
       "    </tr>\n",
       "  </thead>\n",
       "  <tbody>\n",
       "    <tr>\n",
       "      <th>61</th>\n",
       "      <td>11</td>\n",
       "      <td>ALFKI</td>\n",
       "    </tr>\n",
       "    <tr>\n",
       "      <th>9</th>\n",
       "      <td>9</td>\n",
       "      <td>RATTC</td>\n",
       "    </tr>\n",
       "    <tr>\n",
       "      <th>30</th>\n",
       "      <td>8</td>\n",
       "      <td>HUNGO</td>\n",
       "    </tr>\n",
       "    <tr>\n",
       "      <th>11</th>\n",
       "      <td>7</td>\n",
       "      <td>QUICK</td>\n",
       "    </tr>\n",
       "    <tr>\n",
       "      <th>2</th>\n",
       "      <td>7</td>\n",
       "      <td>FOLKO</td>\n",
       "    </tr>\n",
       "    <tr>\n",
       "      <th>33</th>\n",
       "      <td>7</td>\n",
       "      <td>VAFFE</td>\n",
       "    </tr>\n",
       "    <tr>\n",
       "      <th>70</th>\n",
       "      <td>7</td>\n",
       "      <td>SAVEA</td>\n",
       "    </tr>\n",
       "    <tr>\n",
       "      <th>63</th>\n",
       "      <td>7</td>\n",
       "      <td>HILAA</td>\n",
       "    </tr>\n",
       "    <tr>\n",
       "      <th>13</th>\n",
       "      <td>7</td>\n",
       "      <td>ERNSH</td>\n",
       "    </tr>\n",
       "    <tr>\n",
       "      <th>46</th>\n",
       "      <td>7</td>\n",
       "      <td>BERGS</td>\n",
       "    </tr>\n",
       "    <tr>\n",
       "      <th>49</th>\n",
       "      <td>6</td>\n",
       "      <td>WHITC</td>\n",
       "    </tr>\n",
       "    <tr>\n",
       "      <th>58</th>\n",
       "      <td>6</td>\n",
       "      <td>FRANK</td>\n",
       "    </tr>\n",
       "    <tr>\n",
       "      <th>6</th>\n",
       "      <td>6</td>\n",
       "      <td>SUPRD</td>\n",
       "    </tr>\n",
       "    <tr>\n",
       "      <th>7</th>\n",
       "      <td>6</td>\n",
       "      <td>TORTU</td>\n",
       "    </tr>\n",
       "    <tr>\n",
       "      <th>52</th>\n",
       "      <td>5</td>\n",
       "      <td>BLONP</td>\n",
       "    </tr>\n",
       "    <tr>\n",
       "      <th>59</th>\n",
       "      <td>5</td>\n",
       "      <td>QUEEN</td>\n",
       "    </tr>\n",
       "    <tr>\n",
       "      <th>24</th>\n",
       "      <td>5</td>\n",
       "      <td>LILAS</td>\n",
       "    </tr>\n",
       "    <tr>\n",
       "      <th>16</th>\n",
       "      <td>5</td>\n",
       "      <td>QUEDE</td>\n",
       "    </tr>\n",
       "    <tr>\n",
       "      <th>62</th>\n",
       "      <td>5</td>\n",
       "      <td>BONAP</td>\n",
       "    </tr>\n",
       "    <tr>\n",
       "      <th>69</th>\n",
       "      <td>5</td>\n",
       "      <td>KOENE</td>\n",
       "    </tr>\n",
       "    <tr>\n",
       "      <th>23</th>\n",
       "      <td>4</td>\n",
       "      <td>MEREP</td>\n",
       "    </tr>\n",
       "    <tr>\n",
       "      <th>18</th>\n",
       "      <td>4</td>\n",
       "      <td>RICSU</td>\n",
       "    </tr>\n",
       "    <tr>\n",
       "      <th>60</th>\n",
       "      <td>4</td>\n",
       "      <td>OLDWO</td>\n",
       "    </tr>\n",
       "    <tr>\n",
       "      <th>21</th>\n",
       "      <td>4</td>\n",
       "      <td>LEHMS</td>\n",
       "    </tr>\n",
       "    <tr>\n",
       "      <th>20</th>\n",
       "      <td>4</td>\n",
       "      <td>SANTG</td>\n",
       "    </tr>\n",
       "    <tr>\n",
       "      <th>44</th>\n",
       "      <td>4</td>\n",
       "      <td>REGGC</td>\n",
       "    </tr>\n",
       "    <tr>\n",
       "      <th>17</th>\n",
       "      <td>4</td>\n",
       "      <td>WARTH</td>\n",
       "    </tr>\n",
       "    <tr>\n",
       "      <th>54</th>\n",
       "      <td>4</td>\n",
       "      <td>MORGK</td>\n",
       "    </tr>\n",
       "    <tr>\n",
       "      <th>73</th>\n",
       "      <td>4</td>\n",
       "      <td>LINOD</td>\n",
       "    </tr>\n",
       "    <tr>\n",
       "      <th>43</th>\n",
       "      <td>3</td>\n",
       "      <td>SIMOB</td>\n",
       "    </tr>\n",
       "  </tbody>\n",
       "</table>\n",
       "</div>"
      ],
      "text/plain": [
       "    NumberOfCommonsProducts customerID\n",
       "61                       11      ALFKI\n",
       "9                         9      RATTC\n",
       "30                        8      HUNGO\n",
       "11                        7      QUICK\n",
       "2                         7      FOLKO\n",
       "33                        7      VAFFE\n",
       "70                        7      SAVEA\n",
       "63                        7      HILAA\n",
       "13                        7      ERNSH\n",
       "46                        7      BERGS\n",
       "49                        6      WHITC\n",
       "58                        6      FRANK\n",
       "6                         6      SUPRD\n",
       "7                         6      TORTU\n",
       "52                        5      BLONP\n",
       "59                        5      QUEEN\n",
       "24                        5      LILAS\n",
       "16                        5      QUEDE\n",
       "62                        5      BONAP\n",
       "69                        5      KOENE\n",
       "23                        4      MEREP\n",
       "18                        4      RICSU\n",
       "60                        4      OLDWO\n",
       "21                        4      LEHMS\n",
       "20                        4      SANTG\n",
       "44                        4      REGGC\n",
       "17                        4      WARTH\n",
       "54                        4      MORGK\n",
       "73                        4      LINOD\n",
       "43                        3      SIMOB"
      ]
     },
     "execution_count": 181,
     "metadata": {},
     "output_type": "execute_result"
    }
   ],
   "source": [
    "# get the set of products ordered by ALFKI\n",
    "ALFKI_orders = db.orders.find({\"CustomerID\": 'ALFKI'}).distinct(\"OrderID\")\n",
    "ALFKI_Products = set()\n",
    "\n",
    "for o in ALFKI_orders:\n",
    "    ALFKI_Products |= set( db[\"order-details\"].find( { \"OrderID\": o}).distinct(\"ProductID\"))\n",
    "\n",
    "# get all orders ids \n",
    "all_orders_ids = set(db.orders.find().distinct(\"OrderID\"))\n",
    "\n",
    "#match all customers who have ordered at least one products in this set of product\n",
    "customers_matched_orders = set()\n",
    "for o in all_orders_ids:\n",
    "    products = set( db[\"order-details\"].find( { \"OrderID\": o}).distinct(\"ProductID\"))\n",
    "    if (ALFKI_Products.intersection(products)): #if intersection != null\n",
    "        customers_matched_orders.add( db.orders.find_one({\"OrderID\" : o})[\"CustomerID\"])\n",
    "        \n",
    "customers_matched_orders = list(customers_matched_orders) #convert for the dataframe\n",
    "\n",
    "# count the number of common products\n",
    "customers_matched_products_counts = list()\n",
    "for c in customers_matched_orders:\n",
    "    # for each customer, get the set of ordered products\n",
    "    orders = set( db.orders.find( { \"CustomerID\": c}).distinct(\"OrderID\"))\n",
    "    products = set()\n",
    "    for o in orders:\n",
    "        products |= set( db[\"order-details\"].find( { \"OrderID\": o}).distinct(\"ProductID\"))\n",
    "    customers_matched_products_counts.append( len( ALFKI_Products.intersection(products) ) )\n",
    "\n",
    "#group the results and order\n",
    "\n",
    "results = pd.DataFrame({ \"customerID\": customers_matched_orders, \"NumberOfCommonsProducts\": customers_matched_products_counts})\n",
    "print \"%s customers bought at least one common product\" %len(results)\n",
    "print \"TOP 30 customers with common products\"\n",
    "results.sort( columns = \"NumberOfCommonsProducts\" , ascending = False)[:30]\n"
   ]
  },
  {
   "cell_type": "markdown",
   "metadata": {},
   "source": [
    "# some personal tests"
   ]
  },
  {
   "cell_type": "code",
   "execution_count": 78,
   "metadata": {
    "collapsed": true
   },
   "outputs": [],
   "source": [
    "from lightning import Lightning\n",
    "\n",
    "from numpy import random, asarray"
   ]
  },
  {
   "cell_type": "code",
   "execution_count": 79,
   "metadata": {
    "collapsed": false
   },
   "outputs": [
    {
     "data": {
      "text/html": [
       "<div style='margin-top:8px'><img src='data:image/png;base64,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' width='30px' height='35px' style='display: inline-block; padding-right: 10px'></img><span>Lightning initialized</span></div>"
      ],
      "text/plain": [
       "<IPython.core.display.HTML object>"
      ]
     },
     "metadata": {},
     "output_type": "display_data"
    },
    {
     "name": "stdout",
     "output_type": "stream",
     "text": [
      "Connected to server at http://public.lightning-viz.org\n"
     ]
    },
    {
     "data": {
      "application/javascript": [
       "(function e(t,n,r){function s(o,u){if(!n[o]){if(!t[o]){var a=typeof require==\"function\"&&require;if(!u&&a)return a(o,!0);if(i)return i(o,!0);throw new Error(\"Cannot find module '\"+o+\"'\")}var f=n[o]={exports:{}};t[o][0].call(f.exports,function(e){var n=t[o][1][e];return s(n?n:e)},f,f.exports,e,t,n,r)}return n[o].exports}var i=typeof require==\"function\"&&require;for(var o=0;o<r.length;o++)s(r[o]);return s})({1:[function(require,module,exports){\n",
       "window.lightning = window.lightning || {};\n",
       "var lightningCommMap = {};\n",
       "var IPython = window.IPython;\n",
       "\n",
       "var readCommData = function(commData, field) {\n",
       "    try {\n",
       "        return commData.content.data[field];\n",
       "    } catch (err) {\n",
       "        return;\n",
       "    }\n",
       "};\n",
       "\n",
       "\n",
       "var init_comm = function() {\n",
       "    IPython.notebook.kernel.comm_manager.register_target('lightning', function(comm, data) {\n",
       "        var id = readCommData(data, 'id');\n",
       "        lightningCommMap[id] = comm;\n",
       "    });\n",
       "\n",
       "    window.lightning.comm_map = lightningCommMap;\n",
       "}\n",
       "\n",
       "\n",
       "if(IPython && IPython.notebook) {\n",
       "\n",
       "    if(IPython.notebook.kernel) {\n",
       "        init_comm();\n",
       "    }\n",
       "\n",
       "    IPython.notebook.events.on('kernel_connected.Kernel', init_comm);\n",
       "\n",
       "}\n",
       "\n",
       "\n",
       "},{}]},{},[1])\n",
       "//# sourceMappingURL=data:application/json;base64,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\n"
      ],
      "text/plain": [
       "<IPython.core.display.Javascript object>"
      ]
     },
     "metadata": {},
     "output_type": "display_data"
    }
   ],
   "source": [
    "lgn = Lightning(ipython=True, host='http://public.lightning-viz.org')"
   ]
  },
  {
   "cell_type": "code",
   "execution_count": 80,
   "metadata": {
    "collapsed": false
   },
   "outputs": [
    {
     "data": {
      "application/javascript": [
       "(function e(t,n,r){function s(o,u){if(!n[o]){if(!t[o]){var a=typeof require==\"function\"&&require;if(!u&&a)return a(o,!0);if(i)return i(o,!0);throw new Error(\"Cannot find module '\"+o+\"'\")}var f=n[o]={exports:{}};t[o][0].call(f.exports,function(e){var n=t[o][1][e];return s(n?n:e)},f,f.exports,e,t,n,r)}return n[o].exports}var i=typeof require==\"function\"&&require;for(var o=0;o<r.length;o++)s(r[o]);return s})({1:[function(require,module,exports){\n",
       "window.lightning = window.lightning || {};\n",
       "var lightningCommMap = {};\n",
       "var IPython = window.IPython;\n",
       "\n",
       "var readCommData = function(commData, field) {\n",
       "    try {\n",
       "        return commData.content.data[field];\n",
       "    } catch (err) {\n",
       "        return;\n",
       "    }\n",
       "};\n",
       "\n",
       "\n",
       "var init_comm = function() {\n",
       "    IPython.notebook.kernel.comm_manager.register_target('lightning', function(comm, data) {\n",
       "        var id = readCommData(data, 'id');\n",
       "        lightningCommMap[id] = comm;\n",
       "    });\n",
       "\n",
       "    window.lightning.comm_map = lightningCommMap;\n",
       "}\n",
       "\n",
       "\n",
       "if(IPython && IPython.notebook) {\n",
       "\n",
       "    if(IPython.notebook.kernel) {\n",
       "        init_comm();\n",
       "    }\n",
       "\n",
       "    IPython.notebook.events.on('kernel_connected.Kernel', init_comm);\n",
       "\n",
       "}\n",
       "\n",
       "\n",
       "},{}]},{},[1])\n",
       "//# sourceMappingURL=data:application/json;base64,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\n"
      ],
      "text/plain": [
       "<IPython.core.display.Javascript object>"
      ]
     },
     "metadata": {},
     "output_type": "display_data"
    },
    {
     "data": {
      "text/html": [
       "\n",
       "        <iframe\n",
       "            width=\"700\"\n",
       "            height=\"300\"\n",
       "            src=\"https://public.lightning-viz.org/visualizations/409a9fd7-f855-4920-a1f5-c04d87bff8ef/public/\"\n",
       "            frameborder=\"0\"\n",
       "            allowfullscreen\n",
       "        ></iframe>\n",
       "        "
      ],
      "text/plain": [
       "<IPython.lib.display.IFrame at 0x7fb5de23b8d0>"
      ]
     },
     "execution_count": 80,
     "metadata": {},
     "output_type": "execute_result"
    }
   ],
   "source": [
    "connections = random.rand(50,50)\n",
    "connections[connections<0.98] = 0\n",
    "\n",
    "lgn.enable_ipython()\n",
    "\n",
    "group1 = (random.rand(50) * 3).astype('int')\n",
    "group2 = (random.rand(50) * 4).astype('int')\n",
    "viz = lgn.circle(connections, labels=['group ' + str(x) for x in group2], group=[group1, group2])\n",
    "\n",
    "from IPython.display import IFrame\n",
    "IFrame(viz.get_public_link().replace('http','https') , width=700, height=300) "
   ]
  },
  {
   "cell_type": "code",
   "execution_count": 12,
   "metadata": {
    "collapsed": true
   },
   "outputs": [],
   "source": [
    "import networkx as nx\n"
   ]
  },
  {
   "cell_type": "code",
   "execution_count": 13,
   "metadata": {
    "collapsed": false
   },
   "outputs": [],
   "source": [
    "\n",
    "import matplotlib\n",
    "%matplotlib inline\n",
    "import matplotlib.pyplot as plt"
   ]
  },
  {
   "cell_type": "code",
   "execution_count": 14,
   "metadata": {
    "collapsed": false
   },
   "outputs": [
    {
     "data": {
      "text/plain": [
       "[<matplotlib.lines.Line2D at 0x7f3a67a805d0>]"
      ]
     },
     "execution_count": 14,
     "metadata": {},
     "output_type": "execute_result"
    },
    {
     "data": {
      "image/png": "[encoded data removed]",
      "text/plain": [
       "<matplotlib.figure.Figure at 0x7f3a68104910>"
      ]
     },
     "metadata": {},
     "output_type": "display_data"
    }
   ],
   "source": [
    "x = range(0,100)\n",
    "\n",
    "plt.plot(x)"
   ]
  },
  {
   "cell_type": "code",
   "execution_count": 15,
   "metadata": {
    "collapsed": false
   },
   "outputs": [
    {
     "data": {
      "text/html": [
       "<meta name=\"viewport\" content=\"width=device-width, initial-scale=1, maximum-scale=1\"/><meta http-equiv=\"X-UA-Compatible\" content=\"IE=10; IE=9; IE=8; IE=7; IE=EDGE\"/><meta charset=\"UTF-8\"/><link href=\"//fonts.googleapis.com/css?family=Open+Sans:400,700\" rel=\"stylesheet\" type=\"text/css\"/><link rel=\"stylesheet\" href=\"http://public.lightning-viz.org/css/app.css\"/><link rel=\"stylesheet\" href=\"http://public.lightning-viz.org/css/dynamic/viz/?visualizations[]=force\"/><div id=\"lightning-body\" class=\"container content wrap push\"><div class=\"feed-container\"><div data-model=\"visualization\" data-model-id=\"97432e93-aa73-401d-8f7f-1aa7664ed638\" class=\"feed-item-container\"><div data-type=\"lightning-force\" data-data=\"{&quot;nodes&quot;:[0,1,2,3,4,5,6,7,8,9],&quot;links&quot;:[[0,1,1],[0,3,1],[0,6,1],[1,0,1],[1,2,1],[1,7,1],[2,1,1],[2,4,1],[2,9,1],[3,0,1],[3,5,1],[3,8,1],[4,2,1],[4,7,1],[4,9,1],[5,3,1],[5,6,1],[5,7,1],[6,0,1],[6,5,1],[6,8,1],[7,1,1],[7,4,1],[7,5,1],[8,3,1],[8,6,1],[8,9,1],[9,2,1],[9,4,1],[9,8,1]]}\" data-images=\"null\" data-options=\"{&quot;tooltips&quot;:true,&quot;description&quot;:null,&quot;zoom&quot;:true,&quot;height&quot;:null,&quot;width&quot;:600,&quot;brush&quot;:true}\" id=\"viz-97432e93-aa73-401d-8f7f-1aa7664ed638\" data-initialized=\"false\" class=\"feed-item\"></div></div></div></div><script>window.lightning = window.lightning || {};\n",
       "window.lightning.host = \"http://public.lightning-viz.org/\" || 'http://127.0.0.1:3000/';\n",
       "window.lightning.vizCount = (window.lightning.vizCount + 1) || 1;\n",
       "window.lightning.requiredVizTypes = window.lightning.requiredVizTypes || [];\n",
       "if(window.lightning.requiredVizTypes.indexOf(\"force\") === -1) {\n",
       "    window.lightning.requiredVizTypes.push(\"force\");\n",
       "}\n",
       "window._require = window.require;\n",
       "window.require = undefined;\n",
       "window._define = window.define;\n",
       "window.define = undefined;</script><script src=\"http://public.lightning-viz.org/js/embed.js\"></script>"
      ],
      "text/plain": [
       "<IPython.core.display.HTML object>"
      ]
     },
     "metadata": {},
     "output_type": "display_data"
    },
    {
     "name": "stdout",
     "output_type": "stream",
     "text": [
      "<class 'IPython.core.display.HTML'>\n"
     ]
    }
   ],
   "source": [
    "import networkx as nx\n",
    "from IPython.display import display, HTML\n",
    "G = nx.random_regular_graph(3,10)\n",
    "mat = asarray(nx.adjacency_matrix(G).todense())\n",
    "graph = lgn.force(mat).get_html()\n",
    "display(HTML(graph))"
   ]
  },
  {
   "cell_type": "code",
   "execution_count": null,
   "metadata": {
    "collapsed": false
   },
   "outputs": [],
   "source": []
  },
  {
   "cell_type": "code",
   "execution_count": null,
   "metadata": {
    "collapsed": true
   },
   "outputs": [],
   "source": []
  }
 ],
 "metadata": {
  "kernelspec": {
   "display_name": "Python 2",
   "language": "python",
   "name": "python2"
  },
  "language_info": {
   "codemirror_mode": {
    "name": "ipython",
    "version": 2
   },
   "file_extension": ".py",
   "mimetype": "text/x-python",
   "name": "python",
   "nbconvert_exporter": "python",
   "pygments_lexer": "ipython2",
   "version": "2.7.10"
  }
 },
 "nbformat": 4,
 "nbformat_minor": 0
}
