{
 "cells": [
  {
   "cell_type": "markdown",
   "metadata": {},
   "source": [
    "# init"
   ]
  },
  {
   "cell_type": "code",
   "execution_count": 1,
   "metadata": {
    "collapsed": false
   },
   "outputs": [],
   "source": [
    "# # Use a database already created on mongolab \n",
    "# server = 'ds059694.mongolab.com'\n",
    "# port = 59694\n",
    "# db_name = 'deepreader'\n",
    "# username = 'deepreaderuser'\n",
    "# password = '1ecolequimonte45'\n",
    "\n",
    "# from pymongo import MongoClient as Connection\n",
    "\n",
    "# # from pymongo import Connection\n",
    "\n",
    "# # what versions are we using\n",
    "# import sys\n",
    "# print 'Python version', sys.version\n",
    "\n",
    "# import pymongo\n",
    "# print 'Pymongo version', pymongo.version\n",
    "# ##\n",
    "\n",
    "# # connect to server\n",
    "# print '\\nConnecting ...'\n",
    "# conn = Connection(server, port)\n",
    "\n",
    "# # Get the database\n",
    "# print '\\nGetting database ...'\n",
    "# db = conn[db_name]\n",
    "\n",
    "# # Have to authenticate to get access\n",
    "# print '\\nAuthenticating ...'\n",
    "# db.authenticate(username, password)\n",
    "from pymongo import MongoClient\n",
    "client = MongoClient()\n",
    "db = client.izidb\n"
   ]
  },
  {
   "cell_type": "code",
   "execution_count": 26,
   "metadata": {
    "collapsed": false
   },
   "outputs": [
    {
     "name": "stdout",
     "output_type": "stream",
     "text": [
      "--------------------> english word frequencies loaded\n"
     ]
    }
   ],
   "source": [
    "from scripts import izi\n",
    "reload(izi)\n",
    "\n",
    "n_topics = 100"
   ]
  },
  {
   "cell_type": "markdown",
   "metadata": {},
   "source": [
    "# get files list"
   ]
  },
  {
   "cell_type": "code",
   "execution_count": 3,
   "metadata": {
    "collapsed": false
   },
   "outputs": [
    {
     "name": "stdout",
     "output_type": "stream",
     "text": [
      "195\n",
      "1412 Standard English Review-en-ru-T.mxliff\n"
     ]
    }
   ],
   "source": [
    "root = u\"../izi_data/\"\n",
    "filelist = izi.getFileList(root)\n",
    "print len(filelist)\n",
    "example =  filelist[0]\n",
    "print example[len(root):]"
   ]
  },
  {
   "cell_type": "code",
   "execution_count": 4,
   "metadata": {
    "collapsed": true
   },
   "outputs": [],
   "source": [
    "def safe_str(value):\n",
    "    if type(value) == str:\n",
    "    # Ignore errors even if the string is not proper UTF-8 or has\n",
    "    # broken marker bytes.\n",
    "    # Python built-in function unicode() can do this.\n",
    "        value = unicode(value, \"utf-8\", errors=\"ignore\")\n",
    "    else:\n",
    "    # Assume the value object has proper __unicode__() method\n",
    "        value = unicode(value)\n",
    "    return value"
   ]
  },
  {
   "cell_type": "markdown",
   "metadata": {},
   "source": [
    "# define functions"
   ]
  },
  {
   "cell_type": "code",
   "execution_count": 38,
   "metadata": {
    "collapsed": false
   },
   "outputs": [],
   "source": [
    "from bs4 import BeautifulSoup\n",
    "def loadTranslator(path):   \n",
    "    if path[-4:] == 'liff':\n",
    "        soup = BeautifulSoup( open(path), 'lxml')\n",
    "        for string in soup.find_all(\"file\"):\n",
    "            try:\n",
    "                return string['m:task-id']\n",
    "            except:\n",
    "                return -1\n",
    "            \n",
    "            \n",
    "def insertDoc(path, root = root, prefix = ''):\n",
    "    document = dict()\n",
    "#     document['title'] = prefix + '___' + path[len(root):].replace( ' ', '_')\n",
    "    document['title'] = path[len(root):].replace( ' ', '_')\n",
    "    document['type'] = prefix\n",
    "    document['translator'] = loadTranslator(path)\n",
    "    current_translator = db.translators.find_one({'name': document['translator']})\n",
    "        \n",
    "        \n",
    "    try:\n",
    "        full_text = izi.loadText(path)\n",
    "    #     full_text = unicode(full_text, errors='ignore')\n",
    "        full_text = safe_str(full_text)\n",
    "\n",
    "        if len(full_text) > 500:\n",
    "            if not current_translator:\n",
    "                translator = dict()\n",
    "                translator['name'] = document['translator']\n",
    "                translator['document'] = []\n",
    "                id_current_translator = db.translators.save(translator)\n",
    "                current_translator = db.translators.find_one({'name': document['translator']})\n",
    "\n",
    "            # text and tokens\n",
    "            tokens = izi.tokenize( full_text)\n",
    "            document['full_text'] = full_text\n",
    "            document['tokens'] = tokens\n",
    "            # topics\n",
    "            topics =  izi.topicsFromTokens(izi.tokenize(full_text))\n",
    "            semantic_vec = [0.] * n_topics\n",
    "            for i in topics:\n",
    "                semantic_vec[i[0]] = i[1]\n",
    "            document['semantic_vec'] = semantic_vec\n",
    "            # complexity\n",
    "            document['complexity'] = izi.complexityAlongtheText(full_text)\n",
    "            # topic distribution\n",
    "            document['full_topics'] = izi.getTopicDistributionData( document['full_text'], document['semantic_vec'])\n",
    "            # significants words\n",
    "            document['significantWords'] = izi.getMostSignificantWordsData(document['tokens'] , document['semantic_vec'])\n",
    "            # significant words graph\n",
    "            document['topicsGraph'] = izi.SignificantWordsGraph(document['tokens'] , document['semantic_vec'] )\n",
    "\n",
    "            ##\n",
    "            # savec doc\n",
    "            current_id = db.documents.save(document)\n",
    "            current_translator['document'].append(current_id)\n",
    "            db.translators.update({'name': document['translator']}, {'name': document['translator'],\\\n",
    "                                                                     'document': current_translator['document']})\n",
    "\n",
    "\n",
    "            ###################\n",
    "            # create links\n",
    "            cursor = db.documents.find()\n",
    "            for doc in cursor:\n",
    "                y = doc['semantic_vec']\n",
    "                y_id = doc[\"_id\"]\n",
    "                if y_id != current_id:\n",
    "                    s = izi.getSimilarity( semantic_vec, y)\n",
    "                    db.similarities.insert({'source': current_id , 'target': y_id, 'value': s})\n",
    "    except:\n",
    "        print \"############################################################\"\n",
    "        print \"#### ERROR: \" + document['title']"
   ]
  },
  {
   "cell_type": "code",
   "execution_count": 39,
   "metadata": {
    "collapsed": false
   },
   "outputs": [],
   "source": [
    "class idGenerator:\n",
    "\tdef __init__(self):\n",
    "\t\tself.id = 0\n",
    "\tdef get(self):\n",
    "\t\tself.id += 1\n",
    "\t\treturn self.id - 1\n",
    "    \n",
    "def getLastAdded():\n",
    "\tcurrent_id = None\n",
    "\tfor d in db.documents.find().sort(\"_id\", -1).limit(1) :\n",
    "\t\tcurrent_id = d\n",
    "\treturn db.documents.find_one( { \"_id\" : current_id[\"_id\"] })\n",
    "\n",
    "\n",
    "def getGraph():\n",
    "    SIMILARITY_CUTOFF = 0.85\n",
    "\n",
    "    lasDoc = getLastAdded()\n",
    "    semantic_vectors = dict()\n",
    "    list_ids = db.documents.find().distinct(\"_id\")\n",
    "    current_id = lasDoc[\"_id\"]\n",
    "\n",
    "    id2db = dict()\n",
    "    gen = idGenerator()\n",
    "\n",
    "    nodes = []\n",
    "    for ii in list_ids:\n",
    "        doc = db.documents.find_one( {'_id' : ii} )\n",
    "        node = dict()\n",
    "        tmp_id = doc[\"_id\"]\n",
    "        i = gen.get()\n",
    "        id2db[str(tmp_id)] = i\n",
    "        node[\"id\"] = i\n",
    "        node['color'] = \"#555555\"\n",
    "        node['size'] = 5\n",
    "        node['id_db'] = str(tmp_id)\n",
    "        node['name'] = doc['title']\n",
    "        nodes.append(node)\n",
    "\n",
    "    cursor = db.similarities.find()\n",
    "    edges = []\n",
    "    for e in cursor:\n",
    "        if e['value'] > SIMILARITY_CUTOFF:\n",
    "            a = e['source']\n",
    "            b = e['target']\n",
    "            edge = {'source': id2db[str(a)] , 'target': id2db[str(b)], 'value': e['value']}\n",
    "            edges.append(edge)\n",
    "\n",
    "\n",
    "    graph = dict()\n",
    "    graph['nodes'] = nodes\n",
    "    graph['links'] = edges\n",
    "\n",
    "    return graph"
   ]
  },
  {
   "cell_type": "markdown",
   "metadata": {},
   "source": [
    "# Brown"
   ]
  },
  {
   "cell_type": "code",
   "execution_count": null,
   "metadata": {
    "collapsed": false
   },
   "outputs": [],
   "source": [
    "root2 = u\"../brown/\"\n",
    "import nltk\n",
    "brown_ids = nltk.corpus.brown.fileids()\n",
    "for i in brown_ids:\n",
    "    f = open( root2 + i + \".txt\", \"w\")\n",
    "    f.write(nltk.corpus.brown.raw(i) )"
   ]
  },
  {
   "cell_type": "code",
   "execution_count": null,
   "metadata": {
    "collapsed": false
   },
   "outputs": [],
   "source": [
    "for f in izi.getFileList(root2):\n",
    "    insertDoc(f, root = root2)"
   ]
  },
  {
   "cell_type": "code",
   "execution_count": null,
   "metadata": {
    "collapsed": false
   },
   "outputs": [],
   "source": [
    "# cursor = db.documents.find_one({ \"_id\": id})\n",
    "# for document in cursor:\n",
    "#     print document"
   ]
  },
  {
   "cell_type": "markdown",
   "metadata": {},
   "source": [
    "# scripts"
   ]
  },
  {
   "cell_type": "code",
   "execution_count": null,
   "metadata": {
    "collapsed": false,
    "scrolled": true
   },
   "outputs": [],
   "source": [
    "import urllib\n",
    "root_scripts = u\"../scripts_movies/\"\n"
   ]
  },
  {
   "cell_type": "code",
   "execution_count": null,
   "metadata": {
    "collapsed": false
   },
   "outputs": [],
   "source": [
    "f = open('raw_script_urls.txt', 'r')\n",
    "for l in f.readlines():\n",
    "    ll =  [ u.rstrip() for u in l.split(' +++$+++ ') ]\n",
    "    title = ll[1]\n",
    "    title = title.replace(\" \", \"_\")\n",
    "    link = ll[2]\n",
    "    try:\n",
    "        p = urllib.urlopen(link).read()\n",
    "        if len(p) > 1000:\n",
    "            print link + ' ' + title\n",
    "            path = root_scripts + title + \".txt\"\n",
    "            file = open( path, \"w\")\n",
    "            \n",
    "            file.write( p )\n",
    "            insertDoc(path, root = root_scripts)\n",
    "        else:\n",
    "            print 'TOO SHORT: ' + link + ' ' + title\n",
    "    except:\n",
    "        print \"ERROR: \" + title"
   ]
  },
  {
   "cell_type": "code",
   "execution_count": null,
   "metadata": {
    "collapsed": false
   },
   "outputs": [],
   "source": [
    "print izi.getFileList(root_scripts)"
   ]
  },
  {
   "cell_type": "code",
   "execution_count": null,
   "metadata": {
    "collapsed": false
   },
   "outputs": [],
   "source": [
    "fails = []\n",
    "print len(izi.getFileList(root_scripts))\n",
    "i = 0\n",
    "for f in izi.getFileList(root_scripts):\n",
    "    try:\n",
    "        insertDoc(f, root = root_scripts)\n",
    "        print i,\n",
    "    except:\n",
    "        fails.append(f)\n",
    "        print \"#\",\n",
    "    i += 1"
   ]
  },
  {
   "cell_type": "markdown",
   "metadata": {},
   "source": [
    "# masc"
   ]
  },
  {
   "cell_type": "code",
   "execution_count": null,
   "metadata": {
    "collapsed": false,
    "scrolled": true
   },
   "outputs": [],
   "source": [
    "root_masc = u\"../masc/\"\n",
    "k = 0\n",
    "limit = 10\n",
    "for f in izi.getFileList(root_masc):\n",
    "    sub_root = f+'/'\n",
    "    for ff in izi.getFileList(sub_root):\n",
    "        print str(k) + '  |   ' +  str(ff)\n",
    "        if True: #k < limit:\n",
    "            insertDoc(ff, root = sub_root, prefix = f[len(root_masc):])\n",
    "            k+=1"
   ]
  },
  {
   "cell_type": "code",
   "execution_count": null,
   "metadata": {
    "collapsed": false
   },
   "outputs": [],
   "source": [
    "db.graph.insert(  getGraph() )"
   ]
  },
  {
   "cell_type": "markdown",
   "metadata": {},
   "source": [
    "# add all documents"
   ]
  },
  {
   "cell_type": "code",
   "execution_count": 33,
   "metadata": {
    "collapsed": false
   },
   "outputs": [
    {
     "name": "stdout",
     "output_type": "stream",
     "text": [
      "--------------------> english word frequencies loaded\n"
     ]
    },
    {
     "data": {
      "text/plain": [
       "<module 'scripts.izi' from 'scripts\\izi.pyc'>"
      ]
     },
     "execution_count": 33,
     "metadata": {},
     "output_type": "execute_result"
    }
   ],
   "source": [
    "from scripts import izi\n",
    "reload(izi)"
   ]
  },
  {
   "cell_type": "code",
   "execution_count": 46,
   "metadata": {
    "collapsed": false,
    "scrolled": true
   },
   "outputs": [
    {
     "name": "stderr",
     "output_type": "stream",
     "text": [
      "C:\\Anaconda\\lib\\site-packages\\ipykernel\\__main__.py:31: DeprecationWarning: save is deprecated. Use insert_one or replace_one instead\n",
      "C:\\Anaconda\\lib\\site-packages\\ipykernel\\__main__.py:55: DeprecationWarning: save is deprecated. Use insert_one or replace_one instead\n"
     ]
    },
    {
     "name": "stdout",
     "output_type": "stream",
     "text": [
      "../izi_data/1412 Standard English Review-en-ru-T.mxliff\n",
      "../izi_data/1844 0010 S&A MY BIG BOOK OF STICKER FUN PRESSOUT_ STICKERS SECTION 5-en-fr_ca-CR.mxliff"
     ]
    },
    {
     "name": "stderr",
     "output_type": "stream",
     "text": [
      "C:\\Anaconda\\lib\\site-packages\\ipykernel\\__main__.py:57: DeprecationWarning: update is deprecated. Use replace_one, update_one or update_many instead.\n",
      "C:\\Anaconda\\lib\\site-packages\\ipykernel\\__main__.py:68: DeprecationWarning: insert is deprecated. Use insert_one or insert_many instead.\n"
     ]
    },
    {
     "name": "stdout",
     "output_type": "stream",
     "text": [
      "\n",
      "../izi_data/1844 0010 S&A MY BIG BOOK OF STICKER FUN PRESSOUT_STICKERS SECTION 1-en-fr_ca-CR.mxliff\n",
      "../izi_data/1844 0010 S&A MY BIG BOOK OF STICKER FUN PRESSOUT_STICKERS SECTION 3-en-fr_ca-CR.mxliff\n",
      "../izi_data/1844 0010 S&A MY BIG BOOK OF STICKER FUN PRESSOUT_STICKERS SECTION 4-en-fr_ca-CR.mxliff\n",
      "../izi_data/1844 0010 S&A MY BIG BOOK OF STICKER FUN PRESSOUT_STICKERS SECTION 6-en-fr_ca-CR.mxliff\n",
      "../izi_data/1844 0010 S&A MY BIG BOOK OF STICKER FUN PRESSOU_ STICKERS SECTION 2-en-fr_ca-CR.mxliff\n",
      "../izi_data/1844-0001 Mega Giant S&A Dinosaurs UK AMENDED-en-fr_ca-CR.mxliff\n",
      "Error(ASL): Sentence Count is Zero, Cannot Divide\n",
      "cannot compute complexity in 'complexityAlongtheText' \n",
      "../izi_data/1844-0001 MEGA S&A Dinosaurs PLC V4-en-fr_ca-CR.mxliff\n",
      "../izi_data/1920-0001 Fairy Interiors-en-fr_ca-CR.mxliff\n",
      "../izi_data/1920-0001 Fairy PLC-en-fr_ca-CR.mxliff\n",
      "../izi_data/1920-0002 Princess Interiors-en-fr_ca-CR.mxliff\n",
      "../izi_data/1920-0002 Princess PLC-en-fr_ca-CR.mxliff\n",
      "../izi_data/198_GB_ProduktBrochure_VacuumCoater-en-ru-T.mxliff\n",
      "#\n",
      "../izi_data/2.1 fcc_1200m_kazakhstan-tengizchevroil_dl_intl_2-2_G_EN-en-de-T.mxliff\n",
      "../izi_data/2.2.1 fcc_1200m_kazakhstan-tengizchevroil_dl_intl_2-2_G_EN-en-de-T.mxliff\n",
      "Error(ASL): Sentence Count is Zero, Cannot Divide\n",
      "cannot compute complexity in 'complexityAlongtheText' \n",
      "../izi_data/2.2.2 fcc_1200m_kazakhstan-tengizchevroil_dl_intl_2-2_G_EN-en-de-T.mxliff\n",
      "Error(ASL): Sentence Count is Zero, Cannot Divide\n",
      "cannot compute complexity in 'complexityAlongtheText' \n",
      "../izi_data/2014-12-22 translations_enGB dacadoo platform-en-ko-T.mxliff\n",
      "Error(ASL): Sentence Count is Zero, Cannot Divide\n",
      "cannot compute complexity in 'complexityAlongtheText' \n",
      "../izi_data/214186_Diablos_Translation-en-es-T.mxliff\n",
      "#\n",
      "../izi_data/215_GB_produktbrochure_Hammermill-en-ru-T.mxliff\n",
      "../izi_data/217_GB_produktbrochure_Pellet mill-en-ru-T.mxliff\n",
      "../izi_data/245 GB_ImageBrochure_BioWaste_2014 (1)-en-ru-T.mxliff\n",
      "../izi_data/257_GB_produktbrochure_PaddleMixer-en-ru-T.mxliff\n",
      "../izi_data/258_GB_produktbrochure_extruder_pet_aqua-en-ru-T.mxliff\n",
      "../izi_data/26 EMEA October 8 Launch Release FINAL for translation-en-sv-T.mxliff\n",
      "../izi_data/261_GB_produktbrochure_Paladin pellet mills_high-en-ru-T.mxliff\n",
      "../izi_data/262_GB_produktbrochure_Dies and rools_press (1)-en-ru-T.mxliff\n",
      "../izi_data/271_GB_ProduktBrochure_MicroFluidSystem-en-ru-T.mxliff\n",
      "../izi_data/287_GB_produktbrochure_FeedExpander-en-ru-T.mxliff\n",
      "../izi_data/290 GB ImageBrochure_Animal_2014-en-ru-T.mxliff\n",
      "../izi_data/291 GB_ImageBrochure_Petfood_2014-en-ru-T.mxliff\n",
      "../izi_data/292 GB_ImageBrochure_Aqua_2014-en-ru-T.mxliff\n",
      "../izi_data/293_GB_Combi-zone dryer-en-ru-T.mxliff\n",
      "../izi_data/3 Minute Beauty Intro Copy_Translation Template_deadline 20. april-en-da-T.mxliff\n",
      "../izi_data/320_GB_Plant_and_process_controls_ny-en-de-T.mxliff\n",
      "../izi_data/5 2 China Business update-en-zh-T.mxliff\n",
      "../izi_data/5 tips fra planteeksperten_en-GB-en-it-T.mxliff\n",
      "../izi_data/591_GB_produktbrochure_Filter-en-ru-T.mxliff\n",
      "../izi_data/900 GB_Company Profile_2015-en-ru-T.mxliff\n",
      "../izi_data/Allg. Hinweise_EN-en-fa-T.mxliff\n",
      "../izi_data/Annexe 18.22-en-fr-T.mxliff\n",
      "#\n",
      "../izi_data/ANR script_Final_Translation Template-deadline 20. april-en-da-T.mxliff\n",
      "Error(ASL): Sentence Count is Zero, Cannot Divide\n",
      "cannot compute complexity in 'complexityAlongtheText' \n",
      "../izi_data/aps_SRM_Ariba_Adapter_Webinar_20150827_EN_Ubersetzer-en-de-T.mxliff\n",
      "../izi_data/babyshop texter vecka 33-2-en-da-T.mxliff\n",
      "../izi_data/babyshop texter vecka 33-2-en-fi-T.mxliff\n",
      "../izi_data/babyshop texter vecka 33-3 (162-327)-en-da-T.mxliff\n",
      "Error(ASL): Sentence Count is Zero, Cannot Divide\n",
      "cannot compute complexity in 'complexityAlongtheText' \n",
      "../izi_data/babyshop texter vecka 33-3 (162-327)-en-fi-T.mxliff\n",
      "Error(ASL): Sentence Count is Zero, Cannot Divide\n",
      "cannot compute complexity in 'complexityAlongtheText' \n",
      "../izi_data/babyshop texter vecka 33-4 (328-353)-en-da-T.mxliff\n",
      "../izi_data/babyshop texter vecka 33-4 (328-353)-en-fi-T.mxliff\n",
      "../izi_data/babyshop texter vecka 33-5 (156-162)-en-da-T.mxliff\n",
      "../izi_data/babyshop texter vecka 33-5 (156-162)-en-fi-T.mxliff\n",
      "../izi_data/babyshop texter vecka 33-en-da-T.mxliff\n",
      "../izi_data/babyshop texter vecka 33-en-fi-T.mxliff\n",
      "../izi_data/BerkeSOFT midi (Einzelanlage) Quick Guide (for Consumer) (4)-en-fr-T.mxliff\n",
      "../izi_data/Best of the Best Weekly Tips v4-en-da-T.mxliff\n",
      "../izi_data/Beth�s Blog 1 v3-en-da-T.mxliff\n",
      "#\n",
      "../izi_data/Beth�s Blog 2 v1-en-da-T.mxliff\n",
      "#\n",
      "../izi_data/Beth�s Blog 3 v3-en-da-T.mxliff\n",
      "#\n",
      "../izi_data/BroschA4en_2015_SPEKON_web-en-ar-T.mxliff\n",
      "Error(ASL): Sentence Count is Zero, Cannot Divide\n",
      "cannot compute complexity in 'complexityAlongtheText' \n",
      "../izi_data/BSO Teil B_Zwerchallee_EN-en-fa-T.mxliff\n",
      "../izi_data/BSO_B_EBS_EN-en-fa-T.mxliff\n",
      "../izi_data/bso_b_Ludwigsburger_EN-en-fa-T.mxliff\n",
      "../izi_data/BSO_B_Wormser_EN-en-fa-T.mxliff\n",
      "../izi_data/BSO_B_WQS_EN-en-fa-T.mxliff\n",
      "../izi_data/Bushplanet Trademark License-en-de-T.mxliff\n",
      "../izi_data/CAR006_FIRST_6_CONCEPTS_TO_TRANSLATE_291015-en-da-T.mxliff\n",
      "../izi_data/Centax Telecom agreement 1 300915-en-de-T.mxliff\n",
      "../izi_data/Charterhouse Print Management Limited - FINAL-en-de-T.mxliff\n",
      "../izi_data/consultancy contract-en-de-T.mxliff\n",
      "Error(ASL): Sentence Count is Zero, Cannot Divide\n",
      "cannot compute complexity in 'complexityAlongtheText' \n",
      "../izi_data/ContentMatrix_Final Translation Template_deadline 13. march-en-da-T.mxliff\n",
      "../izi_data/ContentMatrix_Final Translation Template_SWEDISH-en-da-T.mxliff\n",
      "../izi_data/content_no-en-no-T.mxliff\n",
      "../izi_data/Corrue Deseille FP128'15 Rev 3-en-fr-T.mxliff\n",
      "../izi_data/CS-915 Manual (REV G)- 9-3-2014 (1)-en-sv-T.mxliff\n",
      "Error(ASL): Sentence Count is Zero, Cannot Divide\n",
      "cannot compute complexity in 'complexityAlongtheText' \n",
      "../izi_data/CSC - UTMB Ispo Press Conference Press Release 090215 (1)-en-de-T.mxliff\n",
      "../izi_data/Customer needs analysis with ratings_Final[1]-en-fr-T.mxliff\n",
      "../izi_data/da-en-da-T.mxliff\n",
      "../izi_data/De 12 varianter - blyanten_en-GB-en-it-T.mxliff\n",
      "../izi_data/DOC010915-01092015124758-en-de-T.mxliff\n",
      "../izi_data/EL GMTC_Final Translation Template (2)_deadline 20. april-en-da-T.mxliff\n",
      "../izi_data/ELX Weekly Wellness Tips v3-en-da-T.mxliff\n",
      "../izi_data/Employee Survey Questions for translating-en-de-T.mxliff\n",
      "../izi_data/ENG - Basic Modules_Eating Habits_V59-MH-en-ko-T.mxliff\n",
      "../izi_data/ENG - Basic Modules_Food Intake-Beverages_QNA_V59-MH-en-ko-T.mxliff\n",
      "../izi_data/ENG - Basic Modules_Food Intake_QNA_V59-MH-en-ko-T.mxliff\n",
      "../izi_data/ENG - Triage-Questions_V59-MH-en-ko-T.mxliff\n",
      "../izi_data/ENG - Ziele_V59-MH-en-ko-T.mxliff\n",
      "../izi_data/ENG -Other_Nutrition_TranslationsV59-MH-en-ko-T.mxliff\n",
      "../izi_data/ERS 51 - User Manual - 1.1-en-de-T.mxliff\n",
      "../izi_data/eula-en-de-T.mxliff\n",
      "../izi_data/ExperTemp DPS Product Review-en-fr-T.mxliff\n",
      "../izi_data/External microsite_Final[1][2]-en-fr-T.mxliff\n",
      "../izi_data/Fichier_devis_trad-en-de-T.mxliff\n",
      "#\n",
      "../izi_data/Hausordnung_EN-en-fa-T.mxliff\n",
      "../izi_data/Hvad er mikrogr�nt_en-GB-en-it-T.mxliff\n",
      "#\n",
      "../izi_data/HYP IPI _en-en-de-T.mxliff\n",
      "../izi_data/ilv_presentation_v13.7_141111_ey_ds-2-en-zh-T.mxliff\n",
      "../izi_data/Inspiration - tiny gardens_DA_en-GB-en-it-T.mxliff\n",
      "../izi_data/joined-P2069-J1-2-3-4-en-it-T.mxliff\n",
      "../izi_data/joined-P3663-J13-14-15-16-17-18-19-20-21-22-23-24-en-nl-T.mxliff\n",
      "Error(ASL): Sentence Count is Zero, Cannot Divide\n",
      "cannot compute complexity in 'complexityAlongtheText' \n",
      "#\n",
      "../izi_data/joined-P3669-J1-3-5-7-9-en-es-T.mxliff\n",
      "../izi_data/joined-P3686-J1-2-3-4-5-en-de-T.mxliff\n",
      "../izi_data/joined-P3782-J1-2-3-en-fr-T.mxliff\n",
      "../izi_data/joined-P3787-J1-2-3-4-5-6-en-no-T.mxliff\n",
      "Error(ASL): Sentence Count is Zero, Cannot Divide\n",
      "cannot compute complexity in 'complexityAlongtheText' \n",
      "#\n",
      "../izi_data/joined-P3859-J1-4-7-10-13-16-19-22-25-28-en-da-T.mxliff\n",
      "Error(ASL): Sentence Count is Zero, Cannot Divide\n",
      "cannot compute complexity in 'complexityAlongtheText' \n",
      "../izi_data/joined-P3897-J1-3-5-7-9-11-13-15-17-19-en-es-T.mxliff\n",
      "../izi_data/joined-P3925-J1-2-3-en-no-T.mxliff\n",
      "../izi_data/joined-P3993-J1-2-en-sv-T.mxliff\n",
      "../izi_data/joined-P4009-J1-4-7-10-en-da-T.mxliff\n",
      "../izi_data/joined-P4054-J1-3-5-7-9-11-13-15-17-19-21-23-en-no-T.mxliff\n",
      "../izi_data/joined-P4054-J2-4-6-8-10-12-14-16-18-20-22-24-en-sv-T.mxliff\n",
      "../izi_data/joined-P4072-J1-2-en-sv-T.mxliff\n",
      "../izi_data/joined-P4140-J1-2-3-en-sv-T.mxliff\n",
      "#\n",
      "../izi_data/joined-P4177-J1-2-3-en-de-T.mxliff\n",
      "../izi_data/joined-P4184-J1-2-3-en-nb_no-T.mxliff\n",
      "../izi_data/joined-P4193-J1-2-en-it-T.mxliff\n",
      "../izi_data/joined-P4196-J1-2-3-en-it-T.mxliff\n",
      "../izi_data/joined-P4212-J1-2-en-de-T.mxliff\n",
      "../izi_data/joined-P4228-J1-2-en-fr-T.mxliff\n",
      "Error(ASL): Sentence Count is Zero, Cannot Divide\n",
      "cannot compute complexity in 'complexityAlongtheText' \n",
      "../izi_data/joined-P4229-J1-2-en-fr-T-2.mxliff\n",
      "../izi_data/joined-P4229-J1-2-en-fr-T.mxliff\n",
      "../izi_data/joined-P4250-J1-2-3-en-de-T.mxliff\n",
      "../izi_data/joined-P4255-J1.1-1.2-1.3-1.4-en-fr-T.mxliff\n",
      "../izi_data/joined-P4264-J1-2-3-4-5-en-ar-T.mxliff\n",
      "Error(ASL): Sentence Count is Zero, Cannot Divide\n",
      "cannot compute complexity in 'complexityAlongtheText' \n",
      "#\n",
      "../izi_data/joined-P4266-J1-2-en-fr-T.mxliff\n",
      "Error(ASL): Sentence Count is Zero, Cannot Divide\n",
      "cannot compute complexity in 'complexityAlongtheText' \n",
      "#\n",
      "../izi_data/KMPG-en-no-T.mxliff\n",
      "Error(ASL): Sentence Count is Zero, Cannot Divide\n",
      "cannot compute complexity in 'complexityAlongtheText' \n",
      "#\n",
      "../izi_data/license_agreement_nexus-en-fr-T.mxliff\n",
      "../izi_data/Manual-V-en-de-T.mxliff\n",
      "../izi_data/Manuel DA TTH 2015-03-06-en-fr-T.mxliff\n",
      "Error(ASL): Sentence Count is Zero, Cannot Divide\n",
      "cannot compute complexity in 'complexityAlongtheText' \n",
      "../izi_data/NT3538 pr traduct-en-es-T.mxliff\n",
      "Error(ASL): Sentence Count is Zero, Cannot Divide\n",
      "cannot compute complexity in 'complexityAlongtheText' \n",
      "../izi_data/Om Sprout_en-GB-en-it-T.mxliff\n",
      "../izi_data/OM-FLEXITHERM 2015-EN1-en-lv-T.mxliff\n",
      "Error(ASL): Sentence Count is Zero, Cannot Divide\n",
      "cannot compute complexity in 'complexityAlongtheText' \n",
      "../izi_data/Operating Manual SWI-520-en-de-T.mxliff\n",
      "../izi_data/Persona Cheat Sheets (2)-en-es-T.mxliff\n",
      "Error(ASL): Sentence Count is Zero, Cannot Divide\n",
      "cannot compute complexity in 'complexityAlongtheText' \n",
      "../izi_data/Personlig s�tning_en-GB-en-it-T.mxliff\n",
      "#\n",
      "../izi_data/Plant dit papir_en-GB-en-it-T.mxliff\n",
      "../izi_data/Presse_en-GB-en-it-T.mxliff\n",
      "../izi_data/printhandler.ashx_PV=0_P...fr_z=257_waccluster=AM3-en-fr-T.mxliff\n",
      "#\n",
      "../izi_data/Product IQ Quizzes v2-en-da-T.mxliff\n",
      "../izi_data/Q & A_en-GB-en-it-T.mxliff\n",
      "../izi_data/quality_dossier_fortigel_b_rev_6_2014 (1)-en-ru-T.mxliff\n",
      "Error(ASL): Sentence Count is Zero, Cannot Divide\n",
      "cannot compute complexity in 'complexityAlongtheText' \n",
      "../izi_data/Re-Nutriv Script_Final Translation Template_deadline 20. april-en-da-T.mxliff\n",
      "Error(ASL): Sentence Count is Zero, Cannot Divide\n",
      "cannot compute complexity in 'complexityAlongtheText' \n",
      "../izi_data/Resort Activities-en-fr-T.mxliff\n",
      "../izi_data/russian_name.mxliff\n",
      "../izi_data/Salesfolder Revlonissimo-en-de-T.mxliff\n",
      "../izi_data/service agreement_draft_for_translation-en-de-T.mxliff\n",
      "../izi_data/SMART Recovery Facilitator M_Version2-en-da-T.mxliff\n",
      "../izi_data/Sprout blyanten_en-GB-en-it-T.mxliff\n",
      "../izi_data/Sprouts v�rdier_en-GB-en-it-T.mxliff\n",
      "#\n",
      "../izi_data/Sprout_PR_faktaark_en-GB-en-it-T.mxliff\n",
      "../izi_data/Sprout_PR_funfacts_en-GB-en-it-T.mxliff\n",
      "../izi_data/Sprout_PR_interview_en-GB-en-it-T.mxliff\n",
      "../izi_data/Sprout_PR_tinygardens_en-GB-en-it-T.mxliff\n",
      "../izi_data/S�DAN G�R DU _en-GB-en-it-T.mxliff\n",
      "#\n",
      "../izi_data/Team Sprout_en-GB-en-it-T.mxliff\n",
      "../izi_data/teksmobile.se_sv-SE_pwd43739_1418743604661-en-sv-T.mxliff\n",
      "../izi_data/Text variables for e-mail report_Final[1]-en-fr-T.mxliff\n",
      "../izi_data/Text variables for on-screen feedback_Final[1]-en-fr-T.mxliff\n",
      "../izi_data/Text1_1070Woerter-en-de-T.mxliff\n",
      "../izi_data/tiny gardens by Sprout_en-GB-en-it-T.mxliff\n",
      "../izi_data/Today you can watch 360-en-zh-T.mxliff\n",
      "../izi_data/TS-2S iv-EU 3 FEB 2015 WORD-en-nl-T.mxliff\n",
      "../izi_data/Turkish_Basketball_Clubs_Evaluationprogramme15-16_Repucom_150612_�bersetzten-en-tr-T.mxliff\n",
      "#\n",
      "../izi_data/TV-#124290-v1-Vehicle_Rental_Agreement__-_template clean_redl. UvH-en-de-T.mxliff\n",
      "../izi_data/Typology of Emblem Reception a-en-de-T.mxliff\n",
      "../izi_data/Underbilag 3 3 Leverand�rens generelle l�sningsbeskrivelse - BI-en-da-T.mxliff\n",
      "#\n",
      "../izi_data/Underbilag 3 3 Leverand�rens generelle l�sningsbeskrivelse - BU-en-da-T.mxliff\n",
      "#\n",
      "../izi_data/Underbilag 3 3 Leverand�rens generelle l�sningsbeskrivelse - IN-en-da-T.mxliff\n",
      "#\n",
      "../izi_data/Underbilag 3 3 Leverand�rens generelle l�sningsbeskrivelse - OP-en-da-T.mxliff\n",
      "#\n",
      "../izi_data/Underbilag 3 3 Leverand�rens generelle l�sningsbeskrivelse - PS-en-da-T.mxliff\n",
      "#\n",
      "../izi_data/Underbilag 3 3 Leverand�rens generelle l�sningsbeskrivelse - RE-en-da-T.mxliff\n",
      "Error(ASL): Sentence Count is Zero, Cannot Divide\n",
      "cannot compute complexity in 'complexityAlongtheText' \n",
      "#\n",
      "../izi_data/Underbilag 3 3 Leverand�rens generelle l�sningsbeskrivelse - TK-en-da-T.mxliff\n",
      "Error(ASL): Sentence Count is Zero, Cannot Divide\n",
      "cannot compute complexity in 'complexityAlongtheText' \n",
      "#\n",
      "../izi_data/Vecka 32-1 (29-80)-en-nb_no-T.mxliff\n",
      "../izi_data/Vecka 32-2 (81-135)-en-nb_no-T.mxliff\n",
      "../izi_data/Vecka 32-3 (136-182)-en-nb_no-T.mxliff\n",
      "Error(ASL): Sentence Count is Zero, Cannot Divide\n",
      "cannot compute complexity in 'complexityAlongtheText' \n",
      "../izi_data/Vecka 32-4 (218-329)-en-nb_no-T.mxliff\n",
      "../izi_data/Vecka 32-5 (362-423)-en-nb_no-T.mxliff\n",
      "../izi_data/Vecka 32-6 (426-479)-en-nb_no-T.mxliff\n",
      "../izi_data/Vecka 32-7 (481-497)-en-nb_no-T.mxliff\n",
      "../izi_data/Vecka 39 - 1 (5-50)-en-nb_no-T.mxliff\n",
      "Error(ASL): Sentence Count is Zero, Cannot Divide\n",
      "cannot compute complexity in 'complexityAlongtheText' \n",
      "../izi_data/Vecka 39 - 2 (51-128)-en-nb_no-T.mxliff\n",
      "../izi_data/Vecka 39 - 3 (130-190)-en-nb_no-T.mxliff\n",
      "../izi_data/Vecka 39 - 4 (192-243)-en-nb_no-T.mxliff\n",
      "../izi_data/Vecka 39 - 5 (246-304)-en-nb_no-T.mxliff\n",
      "Error(ASL): Sentence Count is Zero, Cannot Divide\n",
      "cannot compute complexity in 'complexityAlongtheText' \n",
      "../izi_data/Vecka 39 - 6 (308-357)-en-nb_no-T.mxliff\n",
      "../izi_data/Vecka 39 - 7 (361-410)-en-nb_no-T.mxliff\n",
      "../izi_data/Vecka 39 - 8 (414-442)-en-nb_no-T.mxliff\n",
      "../izi_data/Vejledning pelvifine-en-da-T.mxliff\n",
      "Error(ASL): Sentence Count is Zero, Cannot Divide\n",
      "Error(ASyPW): Number of words are zero, cannot divide\n",
      "cannot compute complexity in 'complexityAlongtheText' \n",
      "#\n",
      "../izi_data/Vejledning til tiny gardens_en-GB-en-it-T.mxliff\n",
      "../izi_data/Vertrag (5)-en-de-T.mxliff\n",
      "../izi_data/Vision & Mission2_en-GB-en-it-T.mxliff\n",
      "../izi_data/Vores ansvar_en-GB-en-it-T.mxliff\n",
      "../izi_data/Welcome Video Script_Final Translation Template_deadline 13. march-en-da-T.mxliff\n",
      "../izi_data/YTP504 instruction-en-de-T.mxliff\n",
      "../izi_data/_WL-Contact_Technical_And_Functional_Proposal-1-en-de-T.mxliff\n",
      "\n",
      "\n",
      "27 fails\n"
     ]
    }
   ],
   "source": [
    "fails = []\n",
    "i = 0\n",
    "maxx = 5\n",
    "for f in filelist:\n",
    "    if True: #i < maxx:\n",
    "        try:\n",
    "            print f\n",
    "            insertDoc(f)\n",
    "        except:\n",
    "            fails.append(f)\n",
    "            print \"#\"\n",
    "\n",
    "        i += 1\n",
    "    \n",
    "print\n",
    "print\n",
    "print \"%s fails\" %len(fails)"
   ]
  },
  {
   "cell_type": "code",
   "execution_count": null,
   "metadata": {
    "collapsed": false
   },
   "outputs": [],
   "source": [
    "for f in fails:\n",
    "    print f"
   ]
  },
  {
   "cell_type": "markdown",
   "metadata": {},
   "source": [
    "# tests"
   ]
  },
  {
   "cell_type": "code",
   "execution_count": null,
   "metadata": {
    "collapsed": false
   },
   "outputs": [],
   "source": [
    "cursor = db.documents.find_one()\n",
    "for document in cursor:\n",
    "    print document\n",
    "    \n",
    "    \n",
    "x = cursor[\"_id\"]\n",
    "\n",
    "db.documents.find_one({ \"_id\": x})[\"full_text\"]"
   ]
  },
  {
   "cell_type": "code",
   "execution_count": 41,
   "metadata": {
    "collapsed": false
   },
   "outputs": [
    {
     "data": {
      "text/plain": [
       "{u'_id': ObjectId('565dbaa69f5c8d2794229fc8'),\n",
       " u'source': ObjectId('565dbaa69f5c8d2794229fc7'),\n",
       " u'target': ObjectId('565dbaa69f5c8d2794229fc5'),\n",
       " u'value': 0.04012625243827806}"
      ]
     },
     "execution_count": 41,
     "metadata": {},
     "output_type": "execute_result"
    }
   ],
   "source": [
    "db.similarities.find_one()"
   ]
  },
  {
   "cell_type": "code",
   "execution_count": 42,
   "metadata": {
    "collapsed": false
   },
   "outputs": [
    {
     "data": {
      "text/plain": [
       "{u'_id': ObjectId('565dbaa09f5c8d2794229fc4'),\n",
       " u'document': [ObjectId('565dbaa69f5c8d2794229fc5')],\n",
       " u'name': u'1VcrPFIwMmE3bD2H0'}"
      ]
     },
     "execution_count": 42,
     "metadata": {},
     "output_type": "execute_result"
    }
   ],
   "source": [
    "db.translators.find_one()"
   ]
  },
  {
   "cell_type": "markdown",
   "metadata": {},
   "source": [
    "# reset collections"
   ]
  },
  {
   "cell_type": "code",
   "execution_count": 45,
   "metadata": {
    "collapsed": false
   },
   "outputs": [],
   "source": [
    "db.documents.drop()\n",
    "db.similarities.drop()\n",
    "db.graph.drop()\n",
    "db.translators.drop()"
   ]
  },
  {
   "cell_type": "code",
   "execution_count": null,
   "metadata": {
    "collapsed": true
   },
   "outputs": [],
   "source": []
  }
 ],
 "metadata": {
  "kernelspec": {
   "display_name": "Python 2",
   "language": "python",
   "name": "python2"
  },
  "language_info": {
   "codemirror_mode": {
    "name": "ipython",
    "version": 2
   },
   "file_extension": ".py",
   "mimetype": "text/x-python",
   "name": "python",
   "nbconvert_exporter": "python",
   "pygments_lexer": "ipython2",
   "version": "2.7.10"
  }
 },
 "nbformat": 4,
 "nbformat_minor": 0
}
