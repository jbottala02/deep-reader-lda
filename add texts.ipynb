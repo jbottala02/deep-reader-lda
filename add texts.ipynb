{
 "cells": [
  {
   "cell_type": "markdown",
   "metadata": {},
   "source": [
    "# init"
   ]
  },
  {
   "cell_type": "code",
   "execution_count": 1,
   "metadata": {
    "collapsed": true
   },
   "outputs": [],
   "source": [
    "from pymongo import MongoClient\n",
    "\n",
    "client = MongoClient()\n",
    "db = client.izidb"
   ]
  },
  {
   "cell_type": "code",
   "execution_count": 10,
   "metadata": {
    "collapsed": false
   },
   "outputs": [
    {
     "name": "stdout",
     "output_type": "stream",
     "text": [
      "--------------------> english word frequencies loaded\n"
     ]
    }
   ],
   "source": [
    "from scripts import izi\n",
    "reload(izi)\n",
    "\n",
    "n_topics = 100"
   ]
  },
  {
   "cell_type": "markdown",
   "metadata": {},
   "source": [
    "# get files list"
   ]
  },
  {
   "cell_type": "code",
   "execution_count": 3,
   "metadata": {
    "collapsed": false
   },
   "outputs": [
    {
     "name": "stdout",
     "output_type": "stream",
     "text": [
      "195\n",
      "1412 Standard English Review-en-ru-T.mxliff\n"
     ]
    }
   ],
   "source": [
    "root = u\"../izi_data/\"\n",
    "filelist = izi.getFileList(root)\n",
    "print len(filelist)\n",
    "example =  filelist[0]\n",
    "print example[len(root):]"
   ]
  },
  {
   "cell_type": "code",
   "execution_count": 4,
   "metadata": {
    "collapsed": true
   },
   "outputs": [],
   "source": [
    "def safe_str(value):\n",
    "    if type(value) == str:\n",
    "    # Ignore errors even if the string is not proper UTF-8 or has\n",
    "    # broken marker bytes.\n",
    "    # Python built-in function unicode() can do this.\n",
    "        value = unicode(value, \"utf-8\", errors=\"ignore\")\n",
    "    else:\n",
    "    # Assume the value object has proper __unicode__() method\n",
    "        value = unicode(value)\n",
    "    return value"
   ]
  },
  {
   "cell_type": "markdown",
   "metadata": {},
   "source": [
    "# define functions"
   ]
  },
  {
   "cell_type": "code",
   "execution_count": 13,
   "metadata": {
    "collapsed": false
   },
   "outputs": [],
   "source": [
    "def insertDoc(path, root = root, prefix = ''):\n",
    "    document = dict()\n",
    "    document['title'] = prefix + '___' + path[len(root):].replace( ' ', '_')\n",
    "    document['type'] = prefix\n",
    "    try:\n",
    "        full_text = izi.loadText(path)\n",
    "        full_text = safe_str(full_text)\n",
    "        if len(full_text) > 500:\n",
    "            # text and tokens\n",
    "            tokens = izi.tokenize( full_text)\n",
    "            document['full_text'] = full_text\n",
    "            document['tokens'] = tokens\n",
    "            # topics\n",
    "            topics =  izi.topicsFromTokens(izi.tokenize(full_text))\n",
    "            semantic_vec = [0.] * n_topics\n",
    "            for i in topics:\n",
    "                semantic_vec[i[0]] = i[1]\n",
    "            document['semantic_vec'] = semantic_vec\n",
    "            # complexity\n",
    "            document['complexity'] = izi.complexityAlongtheText(full_text)\n",
    "            # topic distribution\n",
    "            document['full_topics'] = izi.getTopicDistributionData( document['full_text'], document['semantic_vec'])\n",
    "            # significants words\n",
    "            document['significantWords'] = izi.getMostSignificantWordsData(document['tokens'] , document['semantic_vec'])\n",
    "            # significant words graph\n",
    "            document['topicsGraph'] = izi.SignificantWordsGraph(document['tokens'] , document['semantic_vec'] )\n",
    "\n",
    "            ##\n",
    "            # savec doc\n",
    "            current_id = db.documents.save(document)\n",
    "\n",
    "            ###################\n",
    "            # create links\n",
    "            cursor = db.documents.find()\n",
    "            for doc in cursor:\n",
    "                y = doc['semantic_vec']\n",
    "                y_id = doc[\"_id\"]\n",
    "                if y_id != current_id:\n",
    "                    s = izi.getSimilarity( semantic_vec, y)\n",
    "                    db.similarities.insert({'source': current_id , 'target': y_id, 'value': s})\n",
    "    except:\n",
    "        print \"############################################################\"\n",
    "        print \"#### ERROR: \" + document['title']"
   ]
  },
  {
   "cell_type": "markdown",
   "metadata": {},
   "source": [
    "# Brown"
   ]
  },
  {
   "cell_type": "code",
   "execution_count": null,
   "metadata": {
    "collapsed": false
   },
   "outputs": [],
   "source": [
    "root2 = u\"../brown/\"\n",
    "import nltk\n",
    "brown_ids = nltk.corpus.brown.fileids()\n",
    "for i in brown_ids:\n",
    "    f = open( root2 + i + \".txt\", \"w\")\n",
    "    f.write(nltk.corpus.brown.raw(i) )"
   ]
  },
  {
   "cell_type": "code",
   "execution_count": null,
   "metadata": {
    "collapsed": false
   },
   "outputs": [],
   "source": [
    "for f in izi.getFileList(root2):\n",
    "    insertDoc(f, root = root2)"
   ]
  },
  {
   "cell_type": "code",
   "execution_count": null,
   "metadata": {
    "collapsed": false
   },
   "outputs": [],
   "source": [
    "# cursor = db.documents.find_one({ \"_id\": id})\n",
    "# for document in cursor:\n",
    "#     print document"
   ]
  },
  {
   "cell_type": "markdown",
   "metadata": {},
   "source": [
    "# scripts"
   ]
  },
  {
   "cell_type": "code",
   "execution_count": null,
   "metadata": {
    "collapsed": false,
    "scrolled": true
   },
   "outputs": [],
   "source": [
    "import urllib\n",
    "root_scripts = u\"../scripts_movies/\"\n"
   ]
  },
  {
   "cell_type": "code",
   "execution_count": null,
   "metadata": {
    "collapsed": false
   },
   "outputs": [],
   "source": [
    "f = open('raw_script_urls.txt', 'r')\n",
    "for l in f.readlines():\n",
    "    ll =  [ u.rstrip() for u in l.split(' +++$+++ ') ]\n",
    "    title = ll[1]\n",
    "    title = title.replace(\" \", \"_\")\n",
    "    link = ll[2]\n",
    "    try:\n",
    "        p = urllib.urlopen(link).read()\n",
    "        if len(p) > 1000:\n",
    "            print link + ' ' + title\n",
    "            path = root_scripts + title + \".txt\"\n",
    "            file = open( path, \"w\")\n",
    "            \n",
    "            file.write( p )\n",
    "            insertDoc(path, root = root_scripts)\n",
    "        else:\n",
    "            print 'TOO SHORT: ' + link + ' ' + title\n",
    "    except:\n",
    "        print \"ERROR: \" + title"
   ]
  },
  {
   "cell_type": "code",
   "execution_count": null,
   "metadata": {
    "collapsed": false
   },
   "outputs": [],
   "source": [
    "print izi.getFileList(root_scripts)"
   ]
  },
  {
   "cell_type": "code",
   "execution_count": null,
   "metadata": {
    "collapsed": false
   },
   "outputs": [],
   "source": [
    "fails = []\n",
    "print len(izi.getFileList(root_scripts))\n",
    "i = 0\n",
    "for f in izi.getFileList(root_scripts):\n",
    "    try:\n",
    "        insertDoc(f, root = root_scripts)\n",
    "        print i,\n",
    "    except:\n",
    "        fails.append(f)\n",
    "        print \"#\",\n",
    "    i += 1"
   ]
  },
  {
   "cell_type": "markdown",
   "metadata": {
    "collapsed": true
   },
   "source": [
    "# gutemberg"
   ]
  },
  {
   "cell_type": "code",
   "execution_count": null,
   "metadata": {
    "collapsed": false
   },
   "outputs": [],
   "source": [
    "import urllib\n",
    "root_gut = u\"../gutemberg/\"\n",
    "for f in izi.getFileList(root_gut):\n",
    "    if f[-3:] == 'txt':\n",
    "        print f\n",
    "        insertDoc(f, root = root_gut)"
   ]
  },
  {
   "cell_type": "markdown",
   "metadata": {},
   "source": [
    "# masc"
   ]
  },
  {
   "cell_type": "code",
   "execution_count": 14,
   "metadata": {
    "collapsed": false,
    "scrolled": true
   },
   "outputs": [
    {
     "name": "stdout",
     "output_type": "stream",
     "text": [
      "../masc/fiction/Alices Adventures in Wonderland.txt\n",
      "Error(ASL): Sentence Count is Zero, Cannot Divide"
     ]
    },
    {
     "name": "stderr",
     "output_type": "stream",
     "text": [
      "C:\\Anaconda\\lib\\site-packages\\ipykernel\\__main__.py:30: DeprecationWarning: save is deprecated. Use insert_one or replace_one instead\n",
      "C:\\Anaconda\\lib\\site-packages\\ipykernel\\__main__.py:40: DeprecationWarning: insert is deprecated. Use insert_one or insert_many instead.\n"
     ]
    },
    {
     "name": "stdout",
     "output_type": "stream",
     "text": [
      "\n",
      "cannot compute complexity in 'complexityAlongtheText' \n",
      "average reading ease: 24.052 \n",
      "../masc/fiction/A_Wasted_Day.txt\n",
      "Error(ASL): Sentence Count is Zero, Cannot Divide\n",
      "cannot compute complexity in 'complexityAlongtheText' \n",
      "average reading ease: 21.887 \n",
      "../masc/fiction/captured_moments.txt\n",
      "average reading ease: 19.66 \n",
      "../masc/fiction/hotel-california.txt\n",
      "average reading ease: 20.9527272727 \n",
      "../masc/fiction/lw1.txt\n",
      "average reading ease: 22.345 \n",
      "../masc/fiction/Nathans_Bylichka.txt\n",
      "average reading ease: 13.6918181818 \n",
      "../masc/fiction/The Adventures of Sherlock Holmes.txt\n",
      "average reading ease: 20.1209090909 \n",
      "../masc/fiction/The Iliad of Homer.txt\n",
      "average reading ease: 28.5181818182 \n",
      "../masc/fiction/The_Black_Willow.txt\n",
      "average reading ease: 25.9027272727 \n",
      "../masc/law/A Book About Lawyers.txt\n",
      "average reading ease: 47.3436363636 \n",
      "../masc/law/An Account of the Proceedings on the Trial.txt\n",
      "Error(ASL): Sentence Count is Zero, Cannot Divide\n",
      "cannot compute complexity in 'complexityAlongtheText' \n",
      "average reading ease: 42.561 \n",
      "../masc/law/Briefless Ballads and Legal Lyrics.txt\n",
      "average reading ease: 33.3790909091 \n",
      "../masc/law/Business Hints for Men and Women.txt\n",
      "Error(ASL): Sentence Count is Zero, Cannot Divide\n",
      "cannot compute complexity in 'complexityAlongtheText' \n",
      "average reading ease: 31.26 \n",
      "############################################################\n",
      "#### ERROR: law___Business_Hints_for_Men_and_Women.txt\n",
      "../masc/law/Childrens Internet Protection Act.txt\n",
      "average reading ease: 54.7272727273 \n",
      "../masc/law/Commentaries on the Laws of Englan.txt\n",
      "Error(ASL): Sentence Count is Zero, Cannot Divide\n",
      "cannot compute complexity in 'complexityAlongtheText' \n",
      "average reading ease: 47.636 \n",
      "../masc/law/John Marshall and the Constitution.txt\n",
      "Error(ASL): Sentence Count is Zero, Cannot Divide\n",
      "cannot compute complexity in 'complexityAlongtheText' \n",
      "average reading ease: 50.682 \n",
      "../masc/law/Law and Laughter.txt\n",
      "Error(ASL): Sentence Count is Zero, Cannot Divide\n",
      "cannot compute complexity in 'complexityAlongtheText' \n",
      "average reading ease: 31.294 \n",
      "../masc/law/Our Legal Heritag.txt\n",
      "Error(ASL): Sentence Count is Zero, Cannot Divide\n",
      "cannot compute complexity in 'complexityAlongtheText' \n",
      "average reading ease: 34.813 \n",
      "../masc/law/Popular Law-making.txt\n",
      "average reading ease: 57.687 \n",
      "../masc/law/Report of the Decision of the Supreme Court.txt\n",
      "Error(ASL): Sentence Count is Zero, Cannot Divide\n",
      "cannot compute complexity in 'complexityAlongtheText' \n",
      "average reading ease: 53.422 \n",
      "############################################################\n",
      "#### ERROR: law___Report_of_the_Decision_of_the_Supreme_Court.txt\n",
      "../masc/law/The Acts Of The General Assemblies of the.txt\n",
      "average reading ease: 63.8918181818 \n",
      "############################################################\n",
      "#### ERROR: law___The_Acts_Of_The_General_Assemblies_of_the.txt\n",
      "../masc/law/The Acts of Uniformity.txt\n",
      "average reading ease: 40.768 \n",
      "../masc/law/The Constitution of the United States.txt\n",
      "average reading ease: 55.251 \n",
      "../masc/law/The Declaration of Independenc.txt\n",
      "average reading ease: 54.4490909091 \n",
      "../masc/law/The Divine Right of Church Government.txt\n",
      "average reading ease: 33.1327272727 \n",
      "../masc/law/The English Constitution.txt\n",
      "average reading ease: 40.3618181818 \n",
      "../masc/law/The Federalist Papers.txt\n",
      "average reading ease: 58.0181818182 \n",
      "../masc/law/The Laws Of War.txt\n",
      "average reading ease: 43.5918181818 \n",
      "../masc/law/The Magna Carta.txt\n",
      "average reading ease: 55.2163636364 \n",
      "../masc/law/The United StatesConstitution.txt\n",
      "average reading ease: 57.7109090909 \n",
      "../masc/law/the_common_law.txt\n",
      "average reading ease: 28.8581818182 \n",
      "############################################################\n",
      "#### ERROR: law___the_common_law.txt\n",
      "../masc/medecine/A Manual of the Operations of Surgery.txt\n",
      "average reading ease: 43.2536363636 \n",
      "../masc/medecine/Appendicitis.txt\n",
      "average reading ease: 47.0681818182 \n",
      "../masc/medecine/Bronchoscopy and Esophagoscopy.txt\n",
      "average reading ease: 48.1472727273 \n",
      "../masc/medecine/hygeia-a city of health.txt\n",
      "Error(ASL): Sentence Count is Zero, Cannot Divide\n",
      "cannot compute complexity in 'complexityAlongtheText' \n",
      "average reading ease: 49.633 \n",
      "../masc/medecine/Making Good On Private Dutyhumanistic-nursing.txt\n",
      "average reading ease: 48.587 \n",
      "../masc/medecine/Manual of Surgery Volume First.txt\n",
      "average reading ease: 50.36 \n",
      "../masc/medecine/Report on Surgery to the Santa Clara County.txt\n",
      "Error(ASL): Sentence Count is Zero, Cannot Divide\n",
      "cannot compute complexity in 'complexityAlongtheText' \n",
      "average reading ease: 41.31 \n",
      "../masc/medecine/Surgical Anatomy.txt\n",
      "average reading ease: 43.93 \n",
      "../masc/medecine/The Kama Sutra of Vatsyayana.txt\n",
      "average reading ease: 34.1781818182 \n",
      "../masc/movie-script/aliens.txt\n",
      "average reading ease: 24.5209090909 \n",
      "############################################################\n",
      "#### ERROR: movie-script___aliens.txt\n",
      "../masc/movie-script/american_psycho.txt\n",
      "Error(ASL): Sentence Count is Zero, Cannot Divide\n",
      "cannot compute complexity in 'complexityAlongtheText' \n",
      "average reading ease: 23.039 \n",
      "############################################################\n",
      "#### ERROR: movie-script___american_psycho.txt\n",
      "../masc/movie-script/hannibal.txt\n",
      "Error(ASL): Sentence Count is Zero, Cannot Divide\n",
      "cannot compute complexity in 'complexityAlongtheText' \n",
      "average reading ease: 18.098 \n",
      "../masc/movie-script/independence_day.txt\n",
      "average reading ease: 21.1381818182 \n",
      "../masc/movie-script/jackie_brown.txt\n",
      "average reading ease: 10.3709090909 \n",
      "../masc/movie-script/jaws.txt\n",
      "average reading ease: 16.643 \n",
      "../masc/movie-script/JurassicParkIV-INT.txt\n",
      "average reading ease: 16.6766666667 \n",
      "../masc/movie-script/JurassicParkIV-Scene_1.txt\n",
      "average reading ease: 16.6766666667 \n",
      "../masc/movie-script/JurassicParkIV-Scene_3.txt\n",
      "average reading ease: 19.1566666667 \n",
      "../masc/movie-script/JurassicParkIV-Scene_4.txt\n",
      "average reading ease: 17.35 \n",
      "../masc/movie-script/JurassicParkIV-Scene_5.txt\n",
      "average reading ease: 20.03 \n",
      "../masc/movie-script/pirates.txt\n",
      "Error(ASL): Sentence Count is Zero, Cannot Divide\n",
      "cannot compute complexity in 'complexityAlongtheText' \n",
      "average reading ease: 16.778 \n",
      "../masc/movie-script/psycho.txt\n",
      "average reading ease: 12.4318181818 \n",
      "../masc/movie-script/titanic.txt\n",
      "average reading ease: 14.5845454545 \n",
      "../masc/newspaper_newswire/20020731-nyt.txt\n",
      "Error(ASL): Sentence Count is Zero, Cannot Divide\n",
      "cannot compute complexity in 'complexityAlongtheText' \n",
      "average reading ease: 44.221 \n",
      "../masc/newspaper_newswire/NYTnewswire1.txt\n",
      "average reading ease: 19.975 \n",
      "../masc/newspaper_newswire/NYTnewswire2.txt\n",
      "average reading ease: 47.637 \n",
      "../masc/newspaper_newswire/NYTnewswire3.txt\n",
      "average reading ease: 42.12 \n",
      "../masc/newspaper_newswire/NYTnewswire4.txt\n",
      "average reading ease: 23.105 \n",
      "../masc/newspaper_newswire/NYTnewswire5.txt\n",
      "average reading ease: 36.81 \n",
      "../masc/newspaper_newswire/NYTnewswire6.txt\n",
      "average reading ease: 37.9925 \n",
      "../masc/newspaper_newswire/NYTnewswire7.txt\n",
      "average reading ease: 45.55 \n",
      "../masc/newspaper_newswire/NYTnewswire8.txt\n",
      "average reading ease: 60.804 \n",
      "../masc/newspaper_newswire/NYTnewswire9.txt\n",
      "average reading ease: 27.404 \n",
      "../masc/newspaper_newswire/wsj_0120.txt\n",
      "average reading ease: 41.716 \n",
      "../masc/newspaper_newswire/wsj_0158.txt\n",
      "average reading ease: 51.7 \n",
      "../masc/newspaper_newswire/wsj_1640.mrg-NEW.txt\n",
      "average reading ease: 47.2433333333 \n",
      "../masc/newspaper_newswire/wsj_2465.txt\n",
      "average reading ease: 41.5475 \n",
      "../masc/notices/iphone_user_guide.txt\n",
      "average reading ease: 31.7190909091 \n",
      "############################################################\n",
      "#### ERROR: notices___iphone_user_guide.txt\n",
      "../masc/philosophy/anth_essay_4.txt\n",
      "Error(ASL): Sentence Count is Zero, Cannot Divide\n",
      "cannot compute complexity in 'complexityAlongtheText' \n",
      "average reading ease: 64.489 \n",
      "../masc/philosophy/Ant_Robot.txt\n",
      "average reading ease: 56.061 \n",
      "../masc/philosophy/Applied ethics.txt\n",
      "average reading ease: 55.32 \n",
      "../masc/philosophy/A_defense_of_Michael_Moore.txt\n",
      "Error(ASL): Sentence Count is Zero, Cannot Divide\n",
      "cannot compute complexity in 'complexityAlongtheText' \n",
      "average reading ease: 44.458 \n",
      "../masc/philosophy/Bartok.txt\n",
      "average reading ease: 42.9136363636 \n",
      "../masc/philosophy/Black_and_white.txt\n",
      "Error(ASL): Sentence Count is Zero, Cannot Divide\n",
      "cannot compute complexity in 'complexityAlongtheText' \n",
      "average reading ease: 42.46 \n",
      "../masc/philosophy/Considerations on Representative Government.txt\n",
      "average reading ease: 60.91 \n",
      "../masc/philosophy/Definitions of art.txt\n",
      "average reading ease: 52.4333333333 \n",
      "../masc/philosophy/External world skepticism.txt\n",
      "average reading ease: 38.105 \n",
      "../masc/philosophy/Free will and free choice.txt\n",
      "average reading ease: 32.9733333333 \n",
      "../masc/philosophy/Homer and Classical Philology.txt\n",
      "average reading ease: 56.05 \n",
      "../masc/philosophy/Homosexuality.txt\n",
      "average reading ease: 44.3 \n",
      "../masc/philosophy/Intentionality.txt\n",
      "average reading ease: 49.702 \n",
      "../masc/philosophy/Introduction to existentialism.txt\n",
      "average reading ease: 31.5066666667 \n",
      "../masc/philosophy/Introduction to the Philosophy of Law.txt\n",
      "Error(ASL): Sentence Count is Zero, Cannot Divide\n",
      "cannot compute complexity in 'complexityAlongtheText' \n",
      "average reading ease: 52.543 \n",
      "../masc/philosophy/Just war theory.txt\n",
      "average reading ease: 46.52 \n",
      "../masc/philosophy/Karl Popper and falsificationism.txt\n",
      "average reading ease: 56.334 \n",
      "../masc/philosophy/Madame_White_Snake.txt\n",
      "average reading ease: 48.5955555556 \n",
      "../masc/philosophy/Moral testimony.txt\n",
      "average reading ease: 37.825 \n",
      "../masc/philosophy/Ohio_Steel.txt\n",
      "average reading ease: 46.3627272727 \n",
      "../masc/philosophy/Philosophy and its contrast with science.txt\n",
      "average reading ease: 49.092 \n",
      "../masc/philosophy/Proposed Roads To Freedom.txt\n",
      "average reading ease: 48.2672727273 \n",
      "../masc/philosophy/Thus Spake Zarathustra.txt\n",
      "Error(ASL): Sentence Count is Zero, Cannot Divide\n",
      "cannot compute complexity in 'complexityAlongtheText' \n",
      "average reading ease: 28.35 \n",
      "../masc/political_and_economy/chapter-10.txt\n",
      "average reading ease: 52.4218181818 \n",
      "../masc/political_and_economy/Env_Prot_Agency-nov1.txt\n",
      "average reading ease: 59.2209090909 \n",
      "../masc/political_and_economy/fcic_final_report_conclusions.txt\n",
      "Error(ASL): Sentence Count is Zero, Cannot Divide\n",
      "cannot compute complexity in 'complexityAlongtheText' \n",
      "average reading ease: 52.375 \n",
      "############################################################\n",
      "#### ERROR: political_and_economy___fcic_final_report_conclusions.txt\n",
      "../masc/political_and_economy/Postal_Rate_Comm-ReportToCongress2002WEB.txt\n",
      "average reading ease: 66.69 \n",
      "../masc/political_and_economy/Principles Of Political Economy.txt\n",
      "Error(ASL): Sentence Count is Zero, Cannot Divide\n",
      "cannot compute complexity in 'complexityAlongtheText' \n",
      "average reading ease: 47.772 \n",
      "############################################################\n",
      "#### ERROR: political_and_economy___Principles_Of_Political_Economy.txt\n",
      "../masc/political_and_economy/Protocol_Regarding_Access.txt\n",
      "average reading ease: 60.76 \n",
      "../masc/technologies-engineering/1468-6708-3-1.txt\n",
      "average reading ease: 43.712 \n",
      "../masc/technologies-engineering/1468-6708-3-3.txt\n",
      "average reading ease: 71.09 \n",
      "../masc/technologies-engineering/1471-2091-2-9.txt\n",
      "average reading ease: 37.892 \n",
      "../masc/technologies-engineering/1471-213X-1-1.txt\n",
      "average reading ease: 50.7309090909 \n",
      "../masc/technologies-engineering/1471-230X-2-21.txt\n",
      "average reading ease: 58.5118181818 \n",
      "../masc/technologies-engineering/Ancient Egyptian and Greek Looms.txt\n",
      "average reading ease: 28.9509090909 \n",
      "../masc/technologies-engineering/Artificial Light.txt\n",
      "average reading ease: 44.9772727273 \n",
      "############################################################\n",
      "#### ERROR: technologies-engineering___Artificial_Light.txt\n",
      "../masc/technologies-engineering/concrete_construction.txt\n",
      "average reading ease: 15.0136363636 \n",
      "../masc/technologies-engineering/Cyclopedia of Telephony and Telegraphy.txt\n",
      "average reading ease: 44.2990909091 \n",
      "../masc/technologies-engineering/Delco Manuals.txt\n",
      "average reading ease: 40.363 \n",
      "../masc/technologies-engineering/Development of the Phonograph IBM_1401_programming_systems.txt\n",
      "Error(ASL): Sentence Count is Zero, Cannot Divide\n",
      "cannot compute complexity in 'complexityAlongtheText' \n",
      "average reading ease: 53.729 \n",
      "../masc/technologies-engineering/Development of the Phonograph.txt\n",
      "average reading ease: 40.4554545455 \n",
      "../masc/technologies-engineering/diggers_in_the_earth.txt\n",
      "average reading ease: 27.3509090909 \n",
      "../masc/technologies-engineering/how_it_works.txt\n",
      "average reading ease: 32.4872727273 \n",
      "../masc/technologies-engineering/journal.pbio.0020001.txt\n",
      "average reading ease: 59.8045454545 \n",
      "../masc/technologies-engineering/Letters of a Radio-Engineer to His Son,.txt\n",
      "average reading ease: 29.7190909091 \n",
      "../masc/technologies-engineering/makers_of_many_things.txt\n",
      "average reading ease: 30.5172727273 \n",
      "../masc/technologies-engineering/mechanical_properties_of_wood.txt\n",
      "average reading ease: 19.383 \n",
      "../masc/technologies-engineering/Nitro-Explosive.txt\n",
      "average reading ease: 35.7790909091 \n",
      "../masc/technologies-engineering/opportunities_in_ingineering.txt\n",
      "average reading ease: 44.2081818182 \n",
      "../masc/technologies-engineering/origin_of_wlockwork.txt\n",
      "Error(ASL): Sentence Count is Zero, Cannot Divide\n",
      "cannot compute complexity in 'complexityAlongtheText' \n",
      "average reading ease: 46.69 \n",
      "../masc/technologies-engineering/pmed.0010029.txt\n",
      "average reading ease: 56.83 \n",
      "../masc/technologies-engineering/Radio Shack TRS-80 Expansion Interface.txt\n",
      "average reading ease: 46.3318181818 \n",
      "../masc/technologies-engineering/rr166.txt\n",
      "average reading ease: 45.9318181818 \n",
      "../masc/technologies-engineering/Soap-Making Manual.txt\n",
      "average reading ease: 27.7818181818 \n",
      "../masc/technologies-engineering/Textiles.txt\n",
      "average reading ease: 30.3654545455 \n",
      "../masc/technologies-engineering/The Art of Making Whiskey.txt\n",
      "average reading ease: 40.7618181818 \n",
      "../masc/technologies-engineering/The Art of Perfumery.txt\n",
      "average reading ease: 37.4727272727 \n",
      "../masc/technologies-engineering/The Earliest Electromagnetic Instruments.txt\n",
      "average reading ease: 52.0827272727 \n",
      "../masc/technologies-engineering/The Early History of the Airplane.txt\n",
      "average reading ease: 38.4254545455 \n",
      "../masc/technologies-engineering/The First Airplane Diesel Engine.txt\n",
      "average reading ease: 41.6245454545 \n",
      "../masc/technologies-engineering/The Introduction of Self-Registering.txt\n",
      "average reading ease: 50.0227272727 \n",
      "../masc/technologies-engineering/The Methods of Glass Blowing.txt\n",
      "average reading ease: 36.8545454545 \n",
      "../masc/technologies-engineering/The Telephone.txt\n",
      "average reading ease: 43.0681818182 \n",
      "../masc/technologies-engineering/the_romance_of_rubber.txt\n",
      "average reading ease: 27.9027272727 \n",
      "../masc/travel-guides/HistoryGreek.txt\n",
      "average reading ease: 44.4545454545 \n",
      "../masc/travel-guides/HistoryJerusalem.txt\n",
      "average reading ease: 43.9918181818 \n",
      "../masc/travel-guides/HistoryLasVegas.txt\n",
      "average reading ease: 38.8563636364 \n",
      "../masc/travel-guides/IntroDublin.txt\n",
      "average reading ease: 38.7266666667 \n",
      "../masc/travel-guides/IntroHongKong.txt\n",
      "average reading ease: 46.586 \n",
      "../masc/travel-guides/WhatToHongKong.txt\n",
      "average reading ease: 35.624 \n",
      "../masc/travel-guides/WhereToHongKong.txt\n",
      "Error(ASL): Sentence Count is Zero, Cannot Divide\n",
      "cannot compute complexity in 'complexityAlongtheText' \n",
      "average reading ease: 36.91 \n",
      "../masc/twitter/tweets1.txt\n",
      "average reading ease: 21.1672727273 \n",
      "############################################################\n",
      "#### ERROR: twitter___tweets1.txt\n",
      "../masc/twitter/tweets2.txt\n",
      "Error(ASL): Sentence Count is Zero, Cannot Divide\n",
      "cannot compute complexity in 'complexityAlongtheText' \n",
      "average reading ease: 29.061 \n",
      "############################################################\n",
      "#### ERROR: twitter___tweets2.txt\n",
      "../masc/z_email/.DS_Store\n",
      "EXTENSION ERROR: ../masc/z_email/.DS_Store\n",
      "../masc/z_email/12176.txt\n",
      "average reading ease: 38.46 \n",
      "../masc/z_email/175841.txt\n",
      "average reading ease: 55.828 \n",
      "../masc/z_email/lists-003-2137010.txt\n",
      "average reading ease: 35.2025 \n",
      "../masc/z_email/lists-003-2205935.txt\n",
      "average reading ease: 35.7933333333 \n",
      "../masc/z_email/lists-046-11493928.txt\n",
      "average reading ease: 33.0025 \n",
      "../masc/z_email/lists-046-12122969.txt\n",
      "average reading ease: 37.6575 \n"
     ]
    }
   ],
   "source": [
    "root_masc = u\"../masc/\"\n",
    "k = 0\n",
    "limit = 5\n",
    "for f in izi.getFileList(root_masc):\n",
    "    sub_root = f+'/'\n",
    "    for ff in izi.getFileList(sub_root):\n",
    "        print ff\n",
    "        if True: # k < limit:\n",
    "            insertDoc(ff, root = sub_root, prefix = f[len(root_masc):])\n",
    "            k+=1"
   ]
  },
  {
   "cell_type": "code",
   "execution_count": null,
   "metadata": {
    "collapsed": false
   },
   "outputs": [],
   "source": [
    "insertDoc(ff, root = sub_root, prefix = f[len(root_masc):])"
   ]
  },
  {
   "cell_type": "markdown",
   "metadata": {},
   "source": [
    "# add all documents"
   ]
  },
  {
   "cell_type": "code",
   "execution_count": null,
   "metadata": {
    "collapsed": false
   },
   "outputs": [],
   "source": [
    "fails = []\n",
    "i = 0\n",
    "maxx = 500\n",
    "for f in filelist:\n",
    "    if i < maxx:\n",
    "        try:\n",
    "            insertDoc(f)\n",
    "            print i,\n",
    "        except:\n",
    "            fails.append(f)\n",
    "            print \"#\",\n",
    "\n",
    "        i += 1\n",
    "    \n",
    "print\n",
    "print\n",
    "print \"%s fails\" %len(fails)"
   ]
  },
  {
   "cell_type": "code",
   "execution_count": null,
   "metadata": {
    "collapsed": false
   },
   "outputs": [],
   "source": [
    "for f in fails:\n",
    "    print f"
   ]
  },
  {
   "cell_type": "markdown",
   "metadata": {},
   "source": [
    "# tests"
   ]
  },
  {
   "cell_type": "code",
   "execution_count": null,
   "metadata": {
    "collapsed": false
   },
   "outputs": [],
   "source": [
    "cursor = db.documents.find_one()\n",
    "for document in cursor:\n",
    "    print document\n",
    "    \n",
    "    \n",
    "x = cursor[\"_id\"]\n",
    "\n",
    "db.documents.find_one({ \"_id\": x})[\"full_text\"]"
   ]
  },
  {
   "cell_type": "code",
   "execution_count": null,
   "metadata": {
    "collapsed": false
   },
   "outputs": [],
   "source": [
    "db.similarities.find_one()"
   ]
  },
  {
   "cell_type": "markdown",
   "metadata": {},
   "source": [
    "# reset collections"
   ]
  },
  {
   "cell_type": "code",
   "execution_count": 11,
   "metadata": {
    "collapsed": false
   },
   "outputs": [],
   "source": [
    "db.restaurants.drop()\n",
    "db.documents.drop()\n",
    "db.similarities.drop()"
   ]
  },
  {
   "cell_type": "code",
   "execution_count": null,
   "metadata": {
    "collapsed": true
   },
   "outputs": [],
   "source": []
  }
 ],
 "metadata": {
  "kernelspec": {
   "display_name": "Python 2",
   "language": "python",
   "name": "python2"
  },
  "language_info": {
   "codemirror_mode": {
    "name": "ipython",
    "version": 2
   },
   "file_extension": ".py",
   "mimetype": "text/x-python",
   "name": "python",
   "nbconvert_exporter": "python",
   "pygments_lexer": "ipython2",
   "version": "2.7.10"
  }
 },
 "nbformat": 4,
 "nbformat_minor": 0
}
