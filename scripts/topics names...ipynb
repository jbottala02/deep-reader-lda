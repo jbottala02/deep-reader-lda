{
 "cells": [
  {
   "cell_type": "code",
   "execution_count": 2,
   "metadata": {
    "collapsed": true
   },
   "outputs": [],
   "source": [
    "from __future__ import division\n",
    "import matplotlib\n",
    "matplotlib.use('Agg')\n",
    "from matplotlib import pyplot as plt\n",
    "import matplotlib.patches as mpatches\n",
    "import logging, gensim, bz2\n",
    "from gensim import corpora, models, similarities\n",
    "logging.basicConfig(format='%(asctime)s : %(levelname)s : %(message)s', level=logging.INFO)\n",
    "from bs4 import BeautifulSoup\n",
    "import nltk\n",
    "import re\n",
    "from nltk.corpus import stopwords\n",
    "import string\n",
    "import itertools\n",
    "import random\n",
    "import numpy as np\n",
    "from lightning import Lightning\n",
    "from numpy import random, asarray\n",
    "import networkx as nx\n",
    "import math\n",
    "import random\n",
    "import pickle\n",
    "from nltk.stem.wordnet import WordNetLemmatizer\n",
    "import os\n",
    "import sys\n",
    "import PIL\n",
    "from PIL import Image\n",
    "from os import path\n",
    "from wordcloud import WordCloud\n",
    "from wordcloud import WordCloud, STOPWORDS, ImageColorGenerator\n",
    "from scipy.sparse import *\n",
    "from scipy import *\n",
    "import community\n",
    "from textstat.textstat import textstat\n",
    "import json"
   ]
  },
  {
   "cell_type": "code",
   "execution_count": 17,
   "metadata": {
    "collapsed": false
   },
   "outputs": [],
   "source": [
    "lda = gensim.models.ldamodel.LdaModel.load(u'lda/wikipedia_lda', mmap='r')"
   ]
  },
  {
   "cell_type": "code",
   "execution_count": 68,
   "metadata": {
    "collapsed": false
   },
   "outputs": [
    {
     "name": "stdout",
     "output_type": "stream",
     "text": [
      "[(u'ship', 0.023441046595795271), (u'navy', 0.019352423539307256), (u'ships', 0.014131678350542571), (u'naval', 0.011061893198251753), (u'boat', 0.01014295669924474), (u'hms', 0.0095403348373587112), (u'fleet', 0.0088309065993274621), (u'class', 0.0084549207667640666), (u'vessel', 0.0074511298276332457), (u'submarine', 0.0069331313746241732), (u'crew', 0.0066266616463813597), (u'admiral', 0.0063461723866785769), (u'sea', 0.0061986143440070701), (u'port', 0.0060109616221366577), (u'vessels', 0.0055986183325746819), (u'royal', 0.0054760324827619481), (u'launched', 0.005333924239071113), (u'sunk', 0.0052730276123347701), (u'gun', 0.0049610847302768791), (u'voyage', 0.0048088937741992792), (u'guns', 0.0046849230527506438), (u'boats', 0.0046451319894450192), (u'commissioned', 0.0045031873545114849), (u'captain', 0.004239628629813863), (u'cargo', 0.004237192357161486), (u'flotilla', 0.0041497437896428242), (u'convoy', 0.0041216622981848612), (u'gibraltar', 0.0040268966828112419), (u'coast', 0.0039291475862091836), (u'destroyer', 0.0039089661734438563), (u'maritime', 0.003880552074390213), (u'torpedo', 0.0037632341629861839), (u'frigate', 0.0035965376210984625), (u'command', 0.0035937227246109443), (u'sailed', 0.0034205796200823301), (u'uss', 0.0034085991479195898), (u'sank', 0.0033087304392144684), (u'laid', 0.0032513300532594227), (u'type', 0.0031599500423757599), (u'wrecked', 0.0030312817445360494), (u'patrol', 0.0030197549465888602), (u'sailing', 0.0030195936137585367), (u'guam', 0.0029866699891570605), (u'shipping', 0.002872897304889971), (u'steam', 0.0028629367900796367), (u'sold', 0.0028596325892722915), (u'marine', 0.0027340999736646509), (u'french', 0.0026690946386124467), (u'sail', 0.0025903481315171172), (u'hull', 0.0025590634067724858), (u'yard', 0.0025097233569412901), (u'tons', 0.0024891614976057424), (u'arrived', 0.0024796615155324693), (u'ss', 0.0024265543823336114), (u'ton', 0.0024214620967099895), (u'cruiser', 0.0024087964581900987), (u'merchant', 0.0023581096941028656), (u'renamed', 0.0023574704454012857), (u'escort', 0.0023571053495034969), (u'shipbuilding', 0.0023567565783219409), (u'submarines', 0.0023435144410071727), (u'atlantic', 0.0022796257063252396), (u'deck', 0.0022129851802596143), (u'frigates', 0.0022102747138018561), (u'harbour', 0.0021916151850058271), (u'depth', 0.0021850183102275337), (u'bay', 0.0021499376225752112), (u'wreck', 0.0021471916442189661), (u'island', 0.0021443893599394416), (u'ocean', 0.0021415151799025339), (u'cruise', 0.002079790333066431), (u'captured', 0.0020791552124319202), (u'fate', 0.0019927447115266916), (u'tug', 0.0019828027485015391), (u'construction', 0.0019674281650735753), (u'armament', 0.0019437650458080536), (u'corvette', 0.0019331091151440021), (u'pounder', 0.001928074160745346), (u'departed', 0.0019217089408699363), (u'ports', 0.0019171523471088849), (u'cape', 0.0019085976656996308), (u'aboard', 0.0019035328184182716), (u'mediterranean', 0.0018829768289768465), (u'islands', 0.0018505573494763379), (u'beam', 0.0018503695666792989), (u'passengers', 0.0018477304260774254), (u'dockyard', 0.0018103714289984256), (u'rear', 0.0017809256865908313), (u'chamfered', 0.0017655031813887268), (u'snl', 0.0017620084786709898), (u'sinking', 0.0017424983916611218), (u'submerged', 0.001731465054770344), (u'sloop', 0.0017098273425596646), (u'decommissioned', 0.0016945491805373191), (u'german', 0.0016909590745528922), (u'completed', 0.0016805223270407235), (u'rescued', 0.0016761583483703873), (u'scrapped', 0.0016742273804986956), (u'stern', 0.0016593899447117678), (u'destroyers', 0.0016530448758499603), (u'dock', 0.0016525735549640646), (u'active', 0.0016510269172228813), (u'ashore', 0.0016382475372467), (u'design', 0.0016237627220639674), (u'warships', 0.0016092267843245711), (u'citations', 0.0015966784202979185), (u'sasi', 0.0015844833132168355), (u'speed', 0.001581991262143115), (u'squadron', 0.0015817751375447262), (u'commander', 0.0015627959219816411), (u'transferred', 0.0015270274704208661), (u'engines', 0.0015168349633323205), (u'ordered', 0.0015120815751538353), (u'operated', 0.0014897754889584528), (u'loss', 0.0014722914180598102), (u'tanker', 0.0014682865014243212), (u'pacific', 0.0014506990201376131), (u'voyages', 0.0014479144998619548), (u'officer', 0.0014400686182666344), (u'craft', 0.0014336482403807583), (u'fitted', 0.0014073601811369916), (u'harbor', 0.0013906330248461877), (u'ferry', 0.0013729085528117004), (u'damaged', 0.0013609340063726208), (u'rekishi', 0.0013599674290283381), (u'struck', 0.00135542069053774), (u'waters', 0.0012927997295092133), (u'carrying', 0.001287650868154648), (u'sailors', 0.0012844365626836145), (u'navigation', 0.0012783321970244992), (u'chatham', 0.0012752510610572593), (u'torpedoes', 0.0012619216129028325), (u'lost', 0.0012577553426018613), (u'battleship', 0.0012474248144257482), (u'carried', 0.0012416381680044805), (u'bow', 0.00124015728664876), (u'bibliography', 0.0012392478413821876), (u'assigned', 0.0012216626483801366), (u'survivors', 0.0012186327051674176), (u'returned', 0.0012185872898068219), (u'displacement', 0.0012167890702617962), (u'diesel', 0.00119048080671867), (u'dive', 0.0011887857317978425), (u'armed', 0.0011861060441106712), (u'battery', 0.0011779136743129825), (u'guard', 0.0011736720571158402), (u'mohun', 0.0011647851028465572), (u'flag', 0.0011623347948017371), (u'boilers', 0.0011606118559213535), (u'auxiliary', 0.0011466041151699008), (u'scuttled', 0.0011293197359765958), (u'coastal', 0.0011182087448106135), (u'powered', 0.0011129201776981039), (u'broken', 0.0011070054032453977), (u'sydney', 0.0010957186505706239), (u'anti', 0.0010915246080167602), (u'coldwater', 0.0010914250235381819), (u'hamburg', 0.0010873198269543583), (u'dutch', 0.0010722488109392405), (u'channel', 0.001064317431417485), (u'bound', 0.0010569189910781822), (u'transporting', 0.001052563857151907), (u'shore', 0.0010516591158992658), (u'battle', 0.0010476197303884147), (u'indies', 0.0010425813777856429), (u'fire', 0.0010419299600446439), (u'screw', 0.0010407692028201764), (u'six', 0.0010377955103713697), (u'baltic', 0.0010268464845266906), (u'river', 0.0010218826627022451), (u'draft', 0.0010127078635461966), (u'woolwich', 0.0010119669542802974), (u'passenger', 0.0010110679088694975), (u'shipwrecks', 0.0010041435628511805), (u'spanish', 0.0010017879667631058), (u'oil', 0.0010007300299151134), (u'cruising', 0.00099817034022665506), (u'board', 0.00099743661077574355), (u'refit', 0.00099566840515873545), (u'men', 0.00099458505417593141), (u'torpedoed', 0.00098840703225500483), (u'fishing', 0.0009853331856270076), (u'rescue', 0.00098060527041408095), (u'rif', 0.00097984945793160288), (u'length', 0.00097831257462867804), (u'route', 0.00097527221468369141), (u'total', 0.00097326221891913414), (u'gallipoli', 0.00096434282223956515), (u'seas', 0.00095376025859395636), (u'japanese', 0.0009500085062455172), (u'aft', 0.00094943720713907697), (u'corvettes', 0.00094498695187435178), (u'divers', 0.00094327042341201689), (u'unknown', 0.00094230587454774211), (u'fusiliers', 0.00094201385044149447), (u'gargan', 0.00094056244060342173), (u'training', 0.000936285960688559), (u'inch', 0.00093258188436798871), (u'driven', 0.00092829020337551588), (u'draught', 0.00092741784861694878), (u'towed', 0.00092396342671455061), (u'gunner', 0.0009179652727547878), (u'tubes', 0.00091405315093605376), (u'commanding', 0.00090603961837492839), (u'germany', 0.00090468729701798545), (u'mm', 0.00090279940236994089), (u'surface', 0.0009020548807992558), (u'salvage', 0.00089789887079637636), (u'broadside', 0.00089506431828104583), (u'transport', 0.00089015025999734357), (u'warship', 0.00089000844610852921), (u'michela', 0.00088906576122710216), (u'builder', 0.00088780476461595027), (u'charges', 0.0008877421446048375), (u'scrap', 0.00087343366249190179), (u'convoys', 0.000871102086592115), (u'diving', 0.00086812794392285579), (u'repairs', 0.00086509370176924606), (u'muhammadu', 0.0008579705724791587), (u'en', 0.0008575608340392688), (u'liverpool', 0.00085493288472117586), (u'shipwreck', 0.00084565861925862983), (u'converted', 0.00084443368098971884), (u'isbn', 0.00083770966772564351), (u'engine', 0.00083741214152358902), (u'propeller', 0.00082975835950772371), (u'carrier', 0.00082830791603503539), (u'panamanian', 0.00082385929486147804), (u'water', 0.0008215489647506347), (u'cruisers', 0.00081769112767835677), (u'officers', 0.00081268759220296948), (u'shoal', 0.00080603768648995788), (u'commanded', 0.00080489470826980469), (u'homecoming', 0.00079055075886470751), (u'pontefract', 0.00079054790666362998), (u'winfield', 0.00078985205305918374), (u'duties', 0.00078802457108123397), (u'capture', 0.00078683410495817327), (u'strait', 0.00078536627604064598), (u'lieutenant', 0.00078241343233947469), (u'underwater', 0.00078166201323567398), (u'vijayalakshmi', 0.00077894807407979385), (u'operation', 0.00076780675327555099), (u'rate', 0.00076645317624475344), (u'plan', 0.00076606886734276874), (u'norway', 0.00076507285970484962), (u'marina', 0.0007608916208317754), (u'patrols', 0.00075203282902898112), (u'ins', 0.00074882092798391354), (u'floating', 0.00074855062546541542), (u'plymouth', 0.00074701082938595791), (u'sailor', 0.00074517496208352865), (u'airlift', 0.00074502610567242793), (u'surfaced', 0.0007446205117819239), (u'ran', 0.00074137801071660545), (u'survived', 0.00073578842042650646), (u'zur', 0.00073524146491047468), (u'redoubts', 0.0007283295949527302), (u'tonnes', 0.00072606157820677734), (u'escorted', 0.00072593843406829636), (u'designed', 0.0007257134939816323), (u'carry', 0.00072477215611535203), (u'saipan', 0.00072445065378603612), (u'superstructure', 0.00072392931662488289), (u'arriving', 0.00072332201025306184), (u'operating', 0.00072301952135063853), (u'norwegian', 0.00072282981008898735), (u'complement', 0.00072130996176875681), (u'operations', 0.00071639263807106099), (u'gulf', 0.0007158071457629108), (u'vice', 0.00071236062551559602), (u'commissioning', 0.0007094997483892084), (u'consisted', 0.00070832148509389239), (u'days', 0.00070823568323193802), (u'register', 0.00070698171100395479), (u'repair', 0.00070435507636064094), (u'rigged', 0.00070085142465514249), (u'ltd', 0.000700775819743689), (u'pounders', 0.00070048151727194878), (u'mor\\xe1n', 0.000699409054066177), (u'china', 0.00069910108722757265), (u'rifles', 0.00069566709817691687), (u'raiding', 0.00069403333705296804), (u'equipped', 0.00069014713410212741), (u'blockade', 0.00068968331531590746), (u'lateralis', 0.00068871405052222507), (u'san', 0.00068288674429851925), (u'india', 0.00068271251618921857), (u'imperial', 0.00068240856277749639), (u'load', 0.00068222900909901225), (u'offshore', 0.00067717129882532479), (u'jetty', 0.00067456185744316395), (u'yarrow', 0.00067021074532813327), (u'scrapping', 0.00066979235895756484), (u'corsair', 0.00066607126476500784), (u'redmen', 0.00066593635522129357), (u'coal', 0.00065229531158629268), (u'panama', 0.00065109405044107272), (u'landing', 0.00064926550224211812), (u'sister', 0.00064905563290058952), (u'motor', 0.00064795783809041857), (u'purchased', 0.00064458397795269572), (u'tow', 0.00064414717061913066), (u'leyte', 0.00064367736254015832), (u'whitworth', 0.00064046076861897536), (u'damage', 0.00064029994381872293), (u'dragoons', 0.00063874578960544312), (u'trials', 0.00063817239008909026), (u'tankers', 0.00063515484328563855), (u'propulsion', 0.00063368214621000406), (u'date', 0.00063252230280031797), (u'sails', 0.00063077514850737218), (u'capable', 0.00063017545729802211), (u'followed', 0.00062984926123858852), (u'co', 0.00062871833596988929), (u'kingdom', 0.00062772380807771787), (u'action', 0.00062261986022152838), (u'displaced', 0.0006217486013973605), (u'caribbean', 0.00062005186814706914), (u'flagship', 0.00061858635942183763), (u'masts', 0.00061786273285928633), (u'collision', 0.0006170945208046893), (u'recommissioned', 0.0006163707624121668), (u'shingled', 0.00061237455235871449), (u'america', 0.0006095840174980806), (u'hulled', 0.00060829087483115114), (u'triple', 0.00060758842063941864), (u'placed', 0.00060626841143344198), (u'remained', 0.00060597271534491707), (u'jervis', 0.00060503916302389433), (u'tender', 0.00059644634081917132), (u'mine', 0.00059630113571134953), (u'pirate', 0.00059434235515731836), (u'gazebo', 0.00058933623071215629), (u'pair', 0.00058821495350149325), (u'reached', 0.00058509271151207056), (u'overboard', 0.0005836283744392217), (u'eight', 0.00058319037002183612), (u'synchro', 0.00057807179023037722), (u'gourley', 0.00057795618766147286), (u'container', 0.00057788460194551847), (u'armada', 0.00057251780415762659), (u'operate', 0.00056965861706098891), (u'mariana', 0.00056616413545510262), (u'francisco', 0.00056539425807334491), (u'attacked', 0.00056336210566105183), (u'captains', 0.0005622956153070799), (u'fired', 0.00056124535641402192), (u'capacity', 0.0005573306465451684), (u'australia', 0.00055607715205197939), (u'escorting', 0.0005550162627543327), (u'salvaged', 0.00055206051921155152), (u'maximum', 0.00055096876217406332), (u'pirates', 0.00055023164133256028), (u'delivered', 0.00054876387242129283), (u'refitted', 0.00054835136121965692), (u'charge', 0.00054683374118546667), (u'apc', 0.00054531473598183936), (u'taken', 0.00054424441210432521), (u'originally', 0.00054374640478746332), (u'privateers', 0.0005423246888767567), (u'aircraft', 0.00054020336450495655), (u'station', 0.00053883708341052655), (u'fore', 0.00053760405837194509), (u'attack', 0.00053759257995548537), (u'landfall', 0.00053614378296150443), (u'carriers', 0.00053349704226352402), (u'saw', 0.00053065007004141984), (u'overall', 0.00053063914656131231), (u'naming', 0.00053045681818589849), (u'moored', 0.0005293911709159352), (u'crews', 0.00052784203714329912), (u'seven', 0.00052740804725485903), (u'storm', 0.00052675655351072464), (u'lieut', 0.00052669963882569974), (u'muzzle', 0.00052649959135932364), (u'barracudas', 0.00052586802040558898), (u'owners', 0.00052310447738112881), (u'abercromby', 0.00051748113893530226), (u'batteries', 0.00051718723877651072), (u'sent', 0.00051606041984896174), (u'minesweeper', 0.00051584157050871856), (u'gross', 0.0005156461287462099), (u'joined', 0.0005134722643077435), (u'dives', 0.00051138921986458184), (u'fuel', 0.00051070621772229135), (u'william', 0.00050806194331079848), (u'constructed', 0.00050764935135985245), (u'canadian', 0.000506410998625227), (u'hulls', 0.00050448050315691616), (u'landings', 0.00050277265395055394), (u'aliz\\xe9', 0.00050166020523303057), (u'denisa', 0.00050082879932137475), (u'entered', 0.00049983987297684031), (u'barstow', 0.0004991309539144486), (u'battleships', 0.00049850334255727125), (u'survey', 0.00049679560621183297), (u'haa', 0.00049616562146210575), (u'expedition', 0.00049613499358459325), (u'rti', 0.00049486712168211053), (u'hotham', 0.00049309094464228471), (u'changed', 0.00049303580377987183), (u'disposal', 0.00049244127265570263), (u'steel', 0.00048758981508022247), (u'sighted', 0.00048714808323413092), (u'reef', 0.00048714603827910703), (u'replaced', 0.00048683246197858812), (u'sink', 0.0004832629102204186), (u'singapore', 0.00048172861199399423), (u'seattle', 0.00048066143014258514), (u'gale', 0.0004802967803622876), (u'bb', 0.00047898820799576462), (u'went', 0.0004776642415809043), (u'docks', 0.00047734100411216888), (u'decks', 0.00047723087874770013), (u'superintendent', 0.00047611502661679546), (u'ireland', 0.0004750460443880693), (u'transported', 0.00047480672568708533), (u'england', 0.00047434491507633309), (u'collided', 0.00047424597386369052), (u'beached', 0.00047417910984811306), (u'rammed', 0.0004741532440305552), (u'reserve', 0.00047408276084134291), (u'subsequently', 0.00047364078020290006), (u'paid', 0.00047286350272666641), (u'capt', 0.00047137463014381917), (u'search', 0.00047094208526195165), (u'suez', 0.00046952833824514341), (u'begun', 0.00046862264458440546), (u'france', 0.00046816248540025487), (u'mvs', 0.00046735689876758405), (u'net', 0.00046668356355809246), (u'rigging', 0.00046543807686085219), (u'nationality', 0.00046503543492991552), (u'okamura', 0.00046493339302371384), (u'retiring', 0.00046434842631192723), (u'groton', 0.00046408247880657728), (u'loaded', 0.0004640362305364431), (u'again', 0.00046343471976420102), (u'canal', 0.00046288434965932525), (u'bulk', 0.00046191159357981829), (u'borne', 0.00046149390646893246), (u'italian', 0.00046123531849416583), (u'mid', 0.00046038384154737137), (u'decommissioning', 0.00045547535110800487), (u'weather', 0.00045538091702385851), (u'range', 0.0004545093530359488), (u'heavy', 0.00045407760759499471), (u'stewie', 0.00045351904358986896), (u'driving', 0.00045262337420889334), (u'shunting', 0.0004496598857878138), (u'serving', 0.00044834357849778963), (u'participated', 0.00044826076105925649), (u'gunners', 0.00044787144052300937), (u'stricken', 0.00044767740270824008), (u'howitzers', 0.00044711343631089254), (u'put', 0.00044702839311263584), (u'passage', 0.00044698436206512505), (u'seafarers', 0.00044664230679442729), (u'next', 0.00044363539511825729), (u'repaired', 0.00044362646498728188), (u'iron', 0.00044227471953848114), (u'months', 0.00043986095799719398), (u'surrendered', 0.0004396073547618094), (u'pearl', 0.00043936754338829158), (u'artista', 0.00043798197812549422), (u'twin', 0.00043681250408625198), (u'pier', 0.00043628398945947479), (u'waterline', 0.00043562782556691795), (u'launch', 0.00043562518656121611), (u'oerlikon', 0.00043525036290679401), (u'agulhas', 0.00043423519797747224), (u'description', 0.00043280065100185448), (u'boiler', 0.00043123399177004174), (u'empire', 0.00043119164123086586), (u'escorts', 0.0004277051230360416), (u'sugita', 0.0004270637605953258), (u'imo', 0.00042705339135324082), (u'harland', 0.00042632817717748814), (u'sunken', 0.00042561606771330726), (u'anchor', 0.000425386279496974), (u'indian', 0.00042340933333051523), (u'britain', 0.00042254575456204325), (u'grunt', 0.00042171683317324116), (u'mines', 0.00042125723471630008), (u'returning', 0.00042100513591551675), (u'trip', 0.00041999249652739938), (u'ballast', 0.00041854272057145037), (u'vickers', 0.00041838842612234), (u'revolutionary', 0.00041832367563772146), (u'us', 0.0004161327785144139), (u'commission', 0.00041563353088398385), (u'initially', 0.00041129534987686961), (u'registered', 0.00041107801895551993), (u'acquired', 0.00041079778750390575), (u'wooden', 0.00040998490906492117), (u'regia', 0.00040952935112191849), (u'finally', 0.00040826295850170802), (u'lsm', 0.00040622216104756838), (u'fourteen', 0.00040540416691421601)]\n"
     ]
    }
   ],
   "source": [
    "print lda.show_topic(53, 500)"
   ]
  },
  {
   "cell_type": "code",
   "execution_count": 69,
   "metadata": {
    "collapsed": true
   },
   "outputs": [],
   "source": [
    "topic_names = dict()\n",
    "for i in range(0,100):\n",
    "    topic_names[i] = i\n",
    "    \n",
    "topic_names[0] = \"space - sci fi\"\n",
    "topic_names[1] = \"american football\"\n",
    "topic_names[2] = \"design\"\n",
    "topic_names[3] = \"japan\"\n",
    "topic_names[4] = \"american eduacation\"\n",
    "topic_names[5] = \"north carolina\"\n",
    "topic_names[6] = \"cities - airports ?\"\n",
    "\n",
    "topic_names[72] = 'IT - web'\n",
    "topic_names[78] = 'everyday vocabulary'\n",
    "topic_names[2] = 'industry'\n",
    "topic_names[89] = 'chemistry - nutrition'\n",
    "topic_names[41] = 'security - military'\n",
    "topic_names[64] = 'nature - colors'\n",
    "topic_names[83] = 'food'\n",
    "topic_names[55] = 'clothes - lifestyle'\n",
    "topic_names[77] = 'TV - cinema'\n",
    "topic_names[29] = 'music'\n",
    "topic_names[81] = 'philosophy - sociology'\n",
    "topic_names[97] = 'science'\n",
    "topic_names[40] = 'health - medecine'\n",
    "topic_names[73] = 'landscapes - nature'\n",
    "topic_names[16] = 'urban- construction'\n",
    "topic_names[25] = 'business - economy'\n",
    "topic_names[67] = 'History - medieval'\n",
    "topic_names[86] = 'fantasy - games'\n",
    "topic_names[94] = 'classical music - composers'\n",
    "topic_names[24] = 'vehicle - race'\n",
    "topic_names[38] = 'law - politics'\n",
    "topic_names[57] = 'transports'\n",
    "topic_names[69] = 'sport - competition'\n",
    "topic_names[20] = 'german'\n",
    "topic_names[48] = 'art - galleries'\n",
    "topic_names[44] = 'medias'\n",
    "topic_names[10] = 'literature'\n",
    "topic_names[14] = 'mathematics'\n",
    "topic_names[34] = 'language - not english'\n",
    "topic_names[27] = 'IT - startups - business'\n",
    "topic_names[18] = 'south-east asia'\n",
    "topic_names[11] = 'arab culture'\n",
    "topic_names[33] = 'names'\n",
    "topic_names[88] = 'english culture'\n",
    "topic_names[85] = 'south america'\n",
    "topic_names[61] = 'religion'\n",
    "topic_names[49] = 'biology'\n",
    "topic_names[35] = 'french'\n",
    "topic_names[46] = 'china'\n",
    "topic_names[71] = 'india'\n",
    "topic_names[9] = 'USA'\n",
    "topic_names[7] = 'USA - lifestyle'\n",
    "topic_names[7] = 'sea - navigation'\n",
    "\n",
    "pickle.dump( topic_names, open( \"topics_names.p\", \"wb\" ) )"
   ]
  },
  {
   "cell_type": "code",
   "execution_count": 16,
   "metadata": {
    "collapsed": false
   },
   "outputs": [
    {
     "data": {
      "text/plain": [
       "984"
      ]
     },
     "execution_count": 16,
     "metadata": {},
     "output_type": "execute_result"
    }
   ],
   "source": [
    "len('docno=\"lists-046-12119260\" name=\"T. V. Raman\" email=\"raman@adobe.com\" sent=\"Tue, 4 Jun 1996 08:19:04 -0700\" inreplyto=\"199606040606.AA03032@drizzle.wri.com\" id=\"199606041519.IAA15437@labrador.mv.us.adobe.com\" * X-Fax: 1(415) 962-6063 * X-Phone: 1 (415) 962-3945 subject=\"Re: Comments on parsing steps:\" To: Neil Soiffer Cc: raman@mv.us.adobe.com, w3c-math-erb@w3.org Hi Neill, I did not see anything wrong in Bruces description --all I was trying to do was to fill in the gaps in the description as I perceived -- -- Best Regards, --raman Adobe Systems Tel: 1 (415) 962 3945 (B-1 115) Advanced Technology Group Fax: 1 (415) 962 6063 (E 1-160) 1585 Charleston Road Email: raman@adobe.com Mountain View, CA 94039 -7900 raman@cs.cornell.edu http://www-atg/People/Raman.html (Internal To Adobe) http://www.cs.cornell.edu/Info/People/raman/raman.html (Cornell) Disclaimer: The opinions expressed are my own and in no way should be taken as representative of my employer, Adobe Systems Inc.')"
   ]
  },
  {
   "cell_type": "code",
   "execution_count": null,
   "metadata": {
    "collapsed": true
   },
   "outputs": [],
   "source": []
  }
 ],
 "metadata": {
  "kernelspec": {
   "display_name": "Python 2",
   "language": "python",
   "name": "python2"
  },
  "language_info": {
   "codemirror_mode": {
    "name": "ipython",
    "version": 2
   },
   "file_extension": ".py",
   "mimetype": "text/x-python",
   "name": "python",
   "nbconvert_exporter": "python",
   "pygments_lexer": "ipython2",
   "version": "2.7.10"
  }
 },
 "nbformat": 4,
 "nbformat_minor": 0
}
