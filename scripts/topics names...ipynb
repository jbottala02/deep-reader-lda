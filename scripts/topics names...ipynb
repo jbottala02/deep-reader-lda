{
 "cells": [
  {
   "cell_type": "code",
   "execution_count": null,
   "metadata": {
    "collapsed": true
   },
   "outputs": [],
   "source": [
    "from __future__ import division\n",
    "import matplotlib\n",
    "matplotlib.use('Agg')\n",
    "from matplotlib import pyplot as plt\n",
    "import matplotlib.patches as mpatches\n",
    "import logging, gensim, bz2\n",
    "from gensim import corpora, models, similarities\n",
    "logging.basicConfig(format='%(asctime)s : %(levelname)s : %(message)s', level=logging.INFO)\n",
    "from bs4 import BeautifulSoup\n",
    "import nltk\n",
    "import re\n",
    "from nltk.corpus import stopwords\n",
    "import string\n",
    "import itertools\n",
    "import random\n",
    "import numpy as np\n",
    "from lightning import Lightning\n",
    "from numpy import random, asarray\n",
    "import networkx as nx\n",
    "import math\n",
    "import random\n",
    "import pickle\n",
    "from nltk.stem.wordnet import WordNetLemmatizer\n",
    "import os\n",
    "import sys\n",
    "import PIL\n",
    "from PIL import Image\n",
    "from os import path\n",
    "from wordcloud import WordCloud\n",
    "from wordcloud import WordCloud, STOPWORDS, ImageColorGenerator\n",
    "from scipy.sparse import *\n",
    "from scipy import *\n",
    "import community\n",
    "from textstat.textstat import textstat\n",
    "import json"
   ]
  },
  {
   "cell_type": "code",
   "execution_count": null,
   "metadata": {
    "collapsed": false
   },
   "outputs": [],
   "source": [
    "lda = gensim.models.ldamodel.LdaModel.load(u'lda/wikipedia_lda', mmap='r')"
   ]
  },
  {
   "cell_type": "code",
   "execution_count": null,
   "metadata": {
    "collapsed": false
   },
   "outputs": [],
   "source": [
    "print lda.show_topic(53, 500)"
   ]
  },
  {
   "cell_type": "code",
   "execution_count": null,
   "metadata": {
    "collapsed": true
   },
   "outputs": [],
   "source": [
    "topic_names = dict()\n",
    "for i in range(0,100):\n",
    "    topic_names[i] = i\n",
    "    \n",
    "topic_names[0] = \"space - sci fi\"\n",
    "topic_names[1] = \"american football\"\n",
    "topic_names[2] = \"design\"\n",
    "topic_names[3] = \"japan\"\n",
    "topic_names[4] = \"american eduacation\"\n",
    "topic_names[5] = \"north carolina\"\n",
    "topic_names[6] = \"cities - airports ?\"\n",
    "\n",
    "topic_names[72] = 'IT - web'\n",
    "topic_names[78] = 'everyday vocabulary'\n",
    "topic_names[2] = 'industry'\n",
    "topic_names[89] = 'chemistry - nutrition'\n",
    "topic_names[41] = 'security - military'\n",
    "topic_names[64] = 'nature - colors'\n",
    "topic_names[83] = 'food'\n",
    "topic_names[55] = 'clothes - lifestyle'\n",
    "topic_names[77] = 'TV - cinema'\n",
    "topic_names[29] = 'music'\n",
    "topic_names[81] = 'philosophy - sociology'\n",
    "topic_names[97] = 'science'\n",
    "topic_names[40] = 'health - medecine'\n",
    "topic_names[73] = 'landscapes - nature'\n",
    "topic_names[16] = 'urban- construction'\n",
    "topic_names[25] = 'business - economy'\n",
    "topic_names[67] = 'History - medieval'\n",
    "topic_names[86] = 'fantasy - games'\n",
    "topic_names[94] = 'classical music - composers'\n",
    "topic_names[24] = 'vehicle - race'\n",
    "topic_names[38] = 'law - politics'\n",
    "topic_names[57] = 'transports'\n",
    "topic_names[69] = 'sport - competition'\n",
    "topic_names[20] = 'german'\n",
    "topic_names[48] = 'art - galleries'\n",
    "topic_names[44] = 'medias'\n",
    "topic_names[10] = 'literature'\n",
    "topic_names[14] = 'mathematics'\n",
    "topic_names[34] = 'language - not english'\n",
    "topic_names[27] = 'IT - startups - business'\n",
    "topic_names[18] = 'south-east asia'\n",
    "topic_names[11] = 'arab culture'\n",
    "topic_names[33] = 'names'\n",
    "topic_names[88] = 'english culture'\n",
    "topic_names[85] = 'south america'\n",
    "topic_names[61] = 'religion'\n",
    "topic_names[49] = 'biology'\n",
    "topic_names[35] = 'french'\n",
    "topic_names[46] = 'china'\n",
    "topic_names[71] = 'india'\n",
    "topic_names[9] = 'USA'\n",
    "topic_names[7] = 'USA - lifestyle'\n",
    "topic_names[7] = 'sea - navigation'\n",
    "\n",
    "pickle.dump( topic_names, open( \"topics_names.p\", \"wb\" ) )"
   ]
  },
  {
   "cell_type": "code",
   "execution_count": null,
   "metadata": {
    "collapsed": false
   },
   "outputs": [],
   "source": [
    "len('docno=\"lists-046-12119260\" name=\"T. V. Raman\" email=\"raman@adobe.com\" sent=\"Tue, 4 Jun 1996 08:19:04 -0700\" inreplyto=\"199606040606.AA03032@drizzle.wri.com\" id=\"199606041519.IAA15437@labrador.mv.us.adobe.com\" * X-Fax: 1(415) 962-6063 * X-Phone: 1 (415) 962-3945 subject=\"Re: Comments on parsing steps:\" To: Neil Soiffer Cc: raman@mv.us.adobe.com, w3c-math-erb@w3.org Hi Neill, I did not see anything wrong in Bruces description --all I was trying to do was to fill in the gaps in the description as I perceived -- -- Best Regards, --raman Adobe Systems Tel: 1 (415) 962 3945 (B-1 115) Advanced Technology Group Fax: 1 (415) 962 6063 (E 1-160) 1585 Charleston Road Email: raman@adobe.com Mountain View, CA 94039 -7900 raman@cs.cornell.edu http://www-atg/People/Raman.html (Internal To Adobe) http://www.cs.cornell.edu/Info/People/raman/raman.html (Cornell) Disclaimer: The opinions expressed are my own and in no way should be taken as representative of my employer, Adobe Systems Inc.')"
   ]
  },
  {
   "cell_type": "code",
   "execution_count": null,
   "metadata": {
    "collapsed": true
   },
   "outputs": [],
   "source": []
  }
 ],
 "metadata": {
  "kernelspec": {
   "display_name": "Python 2",
   "language": "python",
   "name": "python2"
  },
  "language_info": {
   "codemirror_mode": {
    "name": "ipython",
    "version": 2
   },
   "file_extension": ".py",
   "mimetype": "text/x-python",
   "name": "python",
   "nbconvert_exporter": "python",
   "pygments_lexer": "ipython2",
   "version": "2.7.10"
  }
 },
 "nbformat": 4,
 "nbformat_minor": 0
}
